{
  "nbformat": 4,
  "nbformat_minor": 0,
  "metadata": {
    "colab": {
      "name": "210219 Class",
      "provenance": [],
      "collapsed_sections": [],
      "authorship_tag": "ABX9TyMG+EjCznfbwxOmpQgAAvWU",
      "include_colab_link": true
    },
    "kernelspec": {
      "name": "python3",
      "display_name": "Python 3"
    }
  },
  "cells": [
    {
      "cell_type": "markdown",
      "metadata": {
        "id": "view-in-github",
        "colab_type": "text"
      },
      "source": [
        "<a href=\"https://colab.research.google.com/github/seulkioh91/pythonbasic/blob/main/210219_Class.ipynb\" target=\"_parent\"><img src=\"https://colab.research.google.com/assets/colab-badge.svg\" alt=\"Open In Colab\"/></a>"
      ]
    },
    {
      "cell_type": "code",
      "metadata": {
        "colab": {
          "base_uri": "https://localhost:8080/"
        },
        "id": "zTCS8NczI1uD",
        "outputId": "3c61a110-cae3-4ed7-e311-07d3b2fd182a"
      },
      "source": [
        "nums = [100, 200, 300, 400, 500]\r\n",
        "del nums[3:]\r\n",
        "print(nums)"
      ],
      "execution_count": 17,
      "outputs": [
        {
          "output_type": "stream",
          "text": [
            "[100, 200, 300]\n"
          ],
          "name": "stdout"
        }
      ]
    },
    {
      "cell_type": "code",
      "metadata": {
        "colab": {
          "base_uri": "https://localhost:8080/"
        },
        "id": "eiwEDRBILI6S",
        "outputId": "42e0c841-ed60-478c-e178-f4b8268b949d"
      },
      "source": [
        "i = [200, 100, 300]\r\n",
        "i.insert(2,10000)\r\n",
        "print(i)"
      ],
      "execution_count": 28,
      "outputs": [
        {
          "output_type": "stream",
          "text": [
            "[200, 100, 10000, 300]\n"
          ],
          "name": "stdout"
        }
      ]
    },
    {
      "cell_type": "markdown",
      "metadata": {
        "id": "lo6YD7ItOzuw"
      },
      "source": [
        ""
      ]
    },
    {
      "cell_type": "code",
      "metadata": {
        "id": "bWKmFmJWPr0y"
      },
      "source": [
        "a='p'"
      ],
      "execution_count": 32,
      "outputs": []
    },
    {
      "cell_type": "code",
      "metadata": {
        "colab": {
          "base_uri": "https://localhost:8080/"
        },
        "id": "T41xWf8RP8qT",
        "outputId": "9e797aef-81f0-4885-97ea-bdf171c2783b"
      },
      "source": [
        "print(type(a))"
      ],
      "execution_count": 35,
      "outputs": [
        {
          "output_type": "stream",
          "text": [
            "<class 'str'>\n"
          ],
          "name": "stdout"
        }
      ]
    },
    {
      "cell_type": "code",
      "metadata": {
        "colab": {
          "base_uri": "https://localhost:8080/"
        },
        "id": "N7aqwBeqP-Zb",
        "outputId": "c1feaa9c-a991-41e8-ca10-b47ae4364d56"
      },
      "source": [
        "a = 10\r\n",
        "b = 2\r\n",
        "for i in range(1,5,2):\r\n",
        "  a+=i\r\n",
        "\r\n",
        "print(a+b)"
      ],
      "execution_count": 38,
      "outputs": [
        {
          "output_type": "stream",
          "text": [
            "16\n"
          ],
          "name": "stdout"
        }
      ]
    },
    {
      "cell_type": "code",
      "metadata": {
        "colab": {
          "base_uri": "https://localhost:8080/"
        },
        "id": "wkOth5OAQpJC",
        "outputId": "c2bf3bcf-3a10-4e77-9181-3a485cc0b9c0"
      },
      "source": [
        "d={'height':180,'weight':78,'weight':84,'temperature':36,'eyeslight':1}\r\n",
        "print(d['weight'])"
      ],
      "execution_count": 42,
      "outputs": [
        {
          "output_type": "stream",
          "text": [
            "84\n"
          ],
          "name": "stdout"
        }
      ]
    },
    {
      "cell_type": "code",
      "metadata": {
        "colab": {
          "base_uri": "https://localhost:8080/"
        },
        "id": "Tye3SIsoS-7o",
        "outputId": "d022023e-d7e5-4a54-e18a-07afe5c9e880"
      },
      "source": [
        "year = '2019'\r\n",
        "month = '04'\r\n",
        "day = '26'\r\n",
        "hour = '11'\r\n",
        "minute = '34'\r\n",
        "second = '27'\r\n",
        "\r\n",
        "print(year, month, day,sep='/',end=' ' )\r\n",
        "print(hour, minute, second,sep=':' )"
      ],
      "execution_count": 55,
      "outputs": [
        {
          "output_type": "stream",
          "text": [
            "2019/04/26 11:34:27\n"
          ],
          "name": "stdout"
        }
      ]
    },
    {
      "cell_type": "code",
      "metadata": {
        "colab": {
          "base_uri": "https://localhost:8080/"
        },
        "id": "461hfJlfXZoE",
        "outputId": "3d2d13f0-e49d-49ae-f3e0-61ac8eba27bb"
      },
      "source": [
        "n = int(input('몇단 만들까?'))\r\n",
        "\r\n",
        "for i in range(1,n+1):\r\n",
        "  for j in range(n+1-i):\r\n",
        "    print(\" \",end=\"\")\r\n",
        "  for j in range(2*i-1):\r\n",
        "    print(\"*\",end=\"\")\r\n",
        "  print()\r\n"
      ],
      "execution_count": 115,
      "outputs": [
        {
          "output_type": "stream",
          "text": [
            "몇단 만들까?7\n",
            "       *\n",
            "      ***\n",
            "     *****\n",
            "    *******\n",
            "   *********\n",
            "  ***********\n",
            " *************\n"
          ],
          "name": "stdout"
        }
      ]
    },
    {
      "cell_type": "code",
      "metadata": {
        "colab": {
          "base_uri": "https://localhost:8080/"
        },
        "id": "d8zijOm-ZWw7",
        "outputId": "b825adef-2b34-4ce1-800e-cb18b7cf22c4"
      },
      "source": [
        "955\r\n",
        "  line = int(input(\"Tree 의 높이를 입력하세요(5~30) : \"))\r\n",
        "\r\n",
        "    for x in range(1, line * 2, 2):\r\n",
        "        print((\" \" * ( (line * 2 - 1 - x) // 2 )) + (\"*\" * x))"
      ],
      "execution_count": 62,
      "outputs": [
        {
          "output_type": "stream",
          "text": [
            "Tree 의 높이를 입력하세요(5~30) : 5\n",
            "    *\n",
            "   ***\n",
            "  *****\n",
            " *******\n",
            "*********\n"
          ],
          "name": "stdout"
        }
      ]
    },
    {
      "cell_type": "code",
      "metadata": {
        "colab": {
          "base_uri": "https://localhost:8080/"
        },
        "id": "oYvZFkLWbb2r",
        "outputId": "fe11988e-ddf7-4d2a-c84b-c6b5e7a547f5"
      },
      "source": [
        "s = 0\r\n",
        "for i in range(1,101):\r\n",
        "  s=s+i\r\n",
        "print(s)"
      ],
      "execution_count": 130,
      "outputs": [
        {
          "output_type": "stream",
          "text": [
            "5050\n"
          ],
          "name": "stdout"
        }
      ]
    },
    {
      "cell_type": "code",
      "metadata": {
        "colab": {
          "base_uri": "https://localhost:8080/"
        },
        "id": "YOEesfZZw-Wn",
        "outputId": "7d0ec19c-2aa2-4daa-f5fe-cf7ee40a2b1a"
      },
      "source": [
        "class Wizard:\r\n",
        "  def __init__(self, health, mana, armor):\r\n",
        "    self.health = health\r\n",
        "    self.mana = mana\r\n",
        "    self.armor = armor\r\n",
        "  def attack(self):\r\n",
        "    print(\"파이어볼\")\r\n",
        "\r\n",
        "x = Wizard(health = 545, mana = 210, armor = 10)\r\n",
        "print(x.health, x.mana, x.armor)\r\n",
        "x.attack()"
      ],
      "execution_count": 148,
      "outputs": [
        {
          "output_type": "stream",
          "text": [
            "545 210 10\n",
            "파이어볼\n"
          ],
          "name": "stdout"
        }
      ]
    },
    {
      "cell_type": "code",
      "metadata": {
        "colab": {
          "base_uri": "https://localhost:8080/"
        },
        "id": "1FmAAog5z74S",
        "outputId": "30c89a64-e7a2-46df-d68a-bf5ec1e0c0ba"
      },
      "source": [
        "n=int(input(\"몇번째?\"))\r\n",
        "태양계=[\"수\", \"금\", \"지\", \"화\", \"목\", \"토\", \"천\", \"해\"]\r\n",
        "print(태양계[n-1])\r\n"
      ],
      "execution_count": 169,
      "outputs": [
        {
          "output_type": "stream",
          "text": [
            "몇번째?2\n",
            "금\n"
          ],
          "name": "stdout"
        }
      ]
    },
    {
      "cell_type": "code",
      "metadata": {
        "colab": {
          "base_uri": "https://localhost:8080/"
        },
        "id": "SyLfcW5j9tQa",
        "outputId": "10417cbd-7a6e-469b-be40-a6b9e653fdb3"
      },
      "source": [
        "n=int(input(\"숫자말해:\"))\r\n",
        "while True:\r\n",
        "  if n%3 == 0:\r\n",
        "    print(\"짝\")\r\n",
        "  else:\r\n",
        "    print(n)\r\n",
        "\r\n",
        "  break"
      ],
      "execution_count": 184,
      "outputs": [
        {
          "output_type": "stream",
          "text": [
            "숫자말해:1\n",
            "1\n"
          ],
          "name": "stdout"
        }
      ]
    },
    {
      "cell_type": "code",
      "metadata": {
        "colab": {
          "base_uri": "https://localhost:8080/"
        },
        "id": "qoN7JofjAZgR",
        "outputId": "4310020b-3c5f-44eb-de58-78f5447ca29f"
      },
      "source": [
        "name=(input(\"이름을 말해주세요\"))\r\n",
        "print(\"안녕하세요 저는 %s  입니다.\" % name)\r\n"
      ],
      "execution_count": 187,
      "outputs": [
        {
          "output_type": "stream",
          "text": [
            "이름을 말해주세요김철수\n",
            "안녕하세요 저는 김철수  입니다.\n"
          ],
          "name": "stdout"
        }
      ]
    },
    {
      "cell_type": "code",
      "metadata": {
        "id": "9uE09v6CGL6Z"
      },
      "source": [
        ""
      ],
      "execution_count": null,
      "outputs": []
    },
    {
      "cell_type": "code",
      "metadata": {
        "id": "72XJXC3TE02y"
      },
      "source": [
        ""
      ],
      "execution_count": null,
      "outputs": []
    },
    {
      "cell_type": "code",
      "metadata": {
        "colab": {
          "base_uri": "https://localhost:8080/"
        },
        "id": "feZewMGkCkmz",
        "outputId": "41f58e6c-51dd-4aa4-b270-22f624bbf1ca"
      },
      "source": [
        "s = input('')\r\n",
        "print(s[::-1])"
      ],
      "execution_count": 203,
      "outputs": [
        {
          "output_type": "stream",
          "text": [
            "김철수\n",
            "수철김\n"
          ],
          "name": "stdout"
        }
      ]
    },
    {
      "cell_type": "code",
      "metadata": {
        "colab": {
          "base_uri": "https://localhost:8080/"
        },
        "id": "dv-2Ihp1Bjh4",
        "outputId": "8810fa3f-9bc9-4343-e8f3-e3ad765999a9"
      },
      "source": [
        "키=int(input(''))\r\n",
        "if 키 >= 150:\r\n",
        "  print(\"yes\")\r\n",
        "else:\r\n",
        "  print(\"no\")"
      ],
      "execution_count": 207,
      "outputs": [
        {
          "output_type": "stream",
          "text": [
            "149\n",
            "no\n"
          ],
          "name": "stdout"
        }
      ]
    },
    {
      "cell_type": "code",
      "metadata": {
        "colab": {
          "base_uri": "https://localhost:8080/"
        },
        "id": "O7FPmpK2CkaJ",
        "outputId": "5ff28ecf-cea1-4aed-d99d-4d976e414d95"
      },
      "source": [
        "a = list(map(int,input().split()))\r\n",
        "print(int(sum(nums)/len(nums)))"
      ],
      "execution_count": 228,
      "outputs": [
        {
          "output_type": "stream",
          "text": [
            "10 20 30 40 50\n",
            "200\n"
          ],
          "name": "stdout"
        }
      ]
    },
    {
      "cell_type": "code",
      "metadata": {
        "colab": {
          "base_uri": "https://localhost:8080/",
          "height": 133
        },
        "id": "mw3SMlXFOvTC",
        "outputId": "31e9f430-80f6-4689-8539-f909a1c35df1"
      },
      "source": [
        "n = list(map(int, input().split()))\r\n",
        "# input받아서, split으로 잘라서, 잘라진것을 숫자로바꿔, 숫자들 map으로 전체 \r\n",
        "print(n[0] ** n[1])"
      ],
      "execution_count": 230,
      "outputs": [
        {
          "output_type": "error",
          "ename": "SyntaxError",
          "evalue": "ignored",
          "traceback": [
            "\u001b[0;36m  File \u001b[0;32m\"<ipython-input-230-efc184cc3baa>\"\u001b[0;36m, line \u001b[0;32m2\u001b[0m\n\u001b[0;31m    print(int(sum(n)/len(n))\u001b[0m\n\u001b[0m                            ^\u001b[0m\n\u001b[0;31mSyntaxError\u001b[0m\u001b[0;31m:\u001b[0m unexpected EOF while parsing\n"
          ]
        }
      ]
    },
    {
      "cell_type": "code",
      "metadata": {
        "colab": {
          "base_uri": "https://localhost:8080/"
        },
        "id": "vki92LJVPUpk",
        "outputId": "539c0c39-62a9-4c45-9259-089f22414081"
      },
      "source": [
        "n = list(map(int, input().split()))\r\n",
        "print(n[0]//n[1], end = \" \")\r\n",
        "print(n[0]%n[1])"
      ],
      "execution_count": 235,
      "outputs": [
        {
          "output_type": "stream",
          "text": [
            "10 5\n",
            "2 0\n"
          ],
          "name": "stdout"
        }
      ]
    },
    {
      "cell_type": "code",
      "metadata": {
        "colab": {
          "base_uri": "https://localhost:8080/"
        },
        "id": "44-6eTuMRDaa",
        "outputId": "dee1e8eb-f263-4f7c-8b64-435774cdb6b4"
      },
      "source": [
        "x={}\r\n",
        "type(x)"
      ],
      "execution_count": 236,
      "outputs": [
        {
          "output_type": "execute_result",
          "data": {
            "text/plain": [
              "dict"
            ]
          },
          "metadata": {
            "tags": []
          },
          "execution_count": 236
        }
      ]
    },
    {
      "cell_type": "code",
      "metadata": {
        "colab": {
          "base_uri": "https://localhost:8080/"
        },
        "id": "XEru6w4FShqQ",
        "outputId": "1783bf32-0335-4cb0-d060-4e64c3d2e043"
      },
      "source": [
        "a=input(\"이름:\")\r\n",
        "print(a.upper())"
      ],
      "execution_count": 237,
      "outputs": [
        {
          "output_type": "stream",
          "text": [
            "이름:marry\n",
            "MARRY\n"
          ],
          "name": "stdout"
        }
      ]
    },
    {
      "cell_type": "code",
      "metadata": {
        "colab": {
          "base_uri": "https://localhost:8080/"
        },
        "id": "mkz2L7BqT7B2",
        "outputId": "31435acb-cd53-422a-8691-8fb698124abf"
      },
      "source": [
        "a = int(input())\r\n",
        "print(a*a*3.14)"
      ],
      "execution_count": 238,
      "outputs": [
        {
          "output_type": "stream",
          "text": [
            "7\n",
            "153.86\n"
          ],
          "name": "stdout"
        }
      ]
    },
    {
      "cell_type": "code",
      "metadata": {
        "colab": {
          "base_uri": "https://localhost:8080/"
        },
        "id": "BxkNt2X9VJEd",
        "outputId": "bf0bd84c-e00c-444b-8853-1090344a51c8"
      },
      "source": [
        "\r\n",
        "def area(a):\r\n",
        "  return a*a*3.14\r\n",
        "area(int(input()))"
      ],
      "execution_count": 249,
      "outputs": [
        {
          "output_type": "stream",
          "text": [
            "7\n"
          ],
          "name": "stdout"
        },
        {
          "output_type": "execute_result",
          "data": {
            "text/plain": [
              "153.86"
            ]
          },
          "metadata": {
            "tags": []
          },
          "execution_count": 249
        }
      ]
    },
    {
      "cell_type": "markdown",
      "metadata": {
        "id": "tOlvU95JZLww"
      },
      "source": [
        ""
      ]
    },
    {
      "cell_type": "code",
      "metadata": {
        "colab": {
          "base_uri": "https://localhost:8080/"
        },
        "id": "l3sjlNrOVULs",
        "outputId": "02a52549-4ff5-4c11-9bda-fba5c77cc062"
      },
      "source": [
        "print((planet.get(input())))\r\n",
        "planet={'수':'Mercury',\r\n",
        "        '금':'Venus',\r\n",
        "        '지':'Earth',\r\n",
        "        '화':'Mars',\r\n",
        "        '목':'Jupiter',\r\n",
        "        '토':'Saturn',\r\n",
        "        '천':'Uranus',\r\n",
        "        '해':'Neptune'\r\n",
        "}\r\n",
        "#딕셔너리는 이렇게 넣어줘야 가독성이 좋다. 관용적으로 이렇게 사용한다.\r\n"
      ],
      "execution_count": 267,
      "outputs": [
        {
          "output_type": "stream",
          "text": [
            "해\n",
            "Neptune\n"
          ],
          "name": "stdout"
        }
      ]
    },
    {
      "cell_type": "code",
      "metadata": {
        "id": "A55ScqSkXVXb"
      },
      "source": [
        ""
      ],
      "execution_count": 267,
      "outputs": []
    },
    {
      "cell_type": "code",
      "metadata": {
        "id": "DAm0BITPZNIh"
      },
      "source": [
        ""
      ],
      "execution_count": null,
      "outputs": []
    }
  ]
}