{
  "nbformat": 4,
  "nbformat_minor": 0,
  "metadata": {
    "colab": {
      "name": "210222 homework.ipynb",
      "provenance": [],
      "authorship_tag": "ABX9TyPo1ErH6Yxh3paejkuSayFH",
      "include_colab_link": true
    },
    "kernelspec": {
      "name": "python3",
      "display_name": "Python 3"
    }
  },
  "cells": [
    {
      "cell_type": "markdown",
      "metadata": {
        "id": "view-in-github",
        "colab_type": "text"
      },
      "source": [
        "<a href=\"https://colab.research.google.com/github/seulkioh91/pythonbasic/blob/main/210222_homework.ipynb\" target=\"_parent\"><img src=\"https://colab.research.google.com/assets/colab-badge.svg\" alt=\"Open In Colab\"/></a>"
      ]
    },
    {
      "cell_type": "code",
      "metadata": {
        "colab": {
          "base_uri": "https://localhost:8080/"
        },
        "id": "94hxTDxEG-zm",
        "outputId": "23cffe54-ddaf-47fd-c65f-e486788dbb48"
      },
      "source": [
        "x = [5, 4, 3, 2] \r\n",
        "x.remove(2) \r\n",
        "print(x)"
      ],
      "execution_count": 1,
      "outputs": [
        {
          "output_type": "stream",
          "text": [
            "[5, 4, 3]\n"
          ],
          "name": "stdout"
        }
      ]
    },
    {
      "cell_type": "code",
      "metadata": {
        "colab": {
          "base_uri": "https://localhost:8080/"
        },
        "id": "mbI-CLH5HFdl",
        "outputId": "a092cc40-5e50-4076-f8c3-0dc5656955f8"
      },
      "source": [
        "x = [5, 4, 3, 2, 1]\r\n",
        "print(x.pop(3))"
      ],
      "execution_count": 2,
      "outputs": [
        {
          "output_type": "stream",
          "text": [
            "2\n"
          ],
          "name": "stdout"
        }
      ]
    },
    {
      "cell_type": "code",
      "metadata": {
        "colab": {
          "base_uri": "https://localhost:8080/"
        },
        "id": "1cQ6NDjkHPAd",
        "outputId": "e7d35340-ab54-438e-e98f-f4933b3aee11"
      },
      "source": [
        "x = [5, 4, 3, 2, 1] \r\n",
        "print(x.index(1))"
      ],
      "execution_count": 3,
      "outputs": [
        {
          "output_type": "stream",
          "text": [
            "4\n"
          ],
          "name": "stdout"
        }
      ]
    },
    {
      "cell_type": "markdown",
      "metadata": {
        "id": "JuZjg75LHeSz"
      },
      "source": [
        ""
      ]
    },
    {
      "cell_type": "code",
      "metadata": {
        "colab": {
          "base_uri": "https://localhost:8080/"
        },
        "id": "Hp2mKsjeHV1k",
        "outputId": "fc9b4520-3291-4004-f914-0cd81e89d174"
      },
      "source": [
        "x = [5, 4, 3, 2, 1]\r\n",
        "x.extend(x)\r\n",
        "print(x)"
      ],
      "execution_count": 5,
      "outputs": [
        {
          "output_type": "stream",
          "text": [
            "[5, 4, 3, 2, 1, 5, 4, 3, 2, 1]\n"
          ],
          "name": "stdout"
        }
      ]
    },
    {
      "cell_type": "code",
      "metadata": {
        "colab": {
          "base_uri": "https://localhost:8080/"
        },
        "id": "x1y1VIQTHZB8",
        "outputId": "4fc940cc-5e9f-4a50-8792-d62ed86f1b90"
      },
      "source": [
        "x = [5, 4, 3, 2, 1]\r\n",
        "y = [0, 5, 10]\r\n",
        "x.extend(y) \r\n",
        "print(x)"
      ],
      "execution_count": 6,
      "outputs": [
        {
          "output_type": "stream",
          "text": [
            "[5, 4, 3, 2, 1, 0, 5, 10]\n"
          ],
          "name": "stdout"
        }
      ]
    },
    {
      "cell_type": "code",
      "metadata": {
        "colab": {
          "base_uri": "https://localhost:8080/"
        },
        "id": "lnLl3AtVHiQb",
        "outputId": "cbd3e80d-d4be-4aac-913e-04bdeb07e98a"
      },
      "source": [
        "x = [5, 4, 3, 2, 1] \r\n",
        "y = [10, 5, 0] \r\n",
        "x.extend(y)\r\n",
        "print(y)"
      ],
      "execution_count": 7,
      "outputs": [
        {
          "output_type": "stream",
          "text": [
            "[10, 5, 0]\n"
          ],
          "name": "stdout"
        }
      ]
    },
    {
      "cell_type": "code",
      "metadata": {
        "colab": {
          "base_uri": "https://localhost:8080/"
        },
        "id": "e3ZyuBE9H4F8",
        "outputId": "30514dc2-4f74-46e0-80fc-b2b053a8256f"
      },
      "source": [
        "x = [5, 4, 3, 2, 1]\r\n",
        "y = [10, 5, 0]\r\n",
        "y.extend(x)\r\n",
        "print(y)"
      ],
      "execution_count": 8,
      "outputs": [
        {
          "output_type": "stream",
          "text": [
            "[10, 5, 0, 5, 4, 3, 2, 1]\n"
          ],
          "name": "stdout"
        }
      ]
    },
    {
      "cell_type": "code",
      "metadata": {
        "colab": {
          "base_uri": "https://localhost:8080/"
        },
        "id": "xopzM20wIDtM",
        "outputId": "161b8abc-c7d7-40ab-85ac-7faf78c9989a"
      },
      "source": [
        "x = [5, 4, 3, 2, 1] \r\n",
        "x.reverse() \r\n",
        "print(x)"
      ],
      "execution_count": 9,
      "outputs": [
        {
          "output_type": "stream",
          "text": [
            "[1, 2, 3, 4, 5]\n"
          ],
          "name": "stdout"
        }
      ]
    },
    {
      "cell_type": "code",
      "metadata": {
        "colab": {
          "base_uri": "https://localhost:8080/"
        },
        "id": "Qq-psxejII27",
        "outputId": "4e36f20c-cdca-4d89-fda9-645beb8c3437"
      },
      "source": [
        "x = [25, 14, 53, 62, 11] \r\n",
        "x.sort() \r\n",
        "print(x)"
      ],
      "execution_count": 10,
      "outputs": [
        {
          "output_type": "stream",
          "text": [
            "[11, 14, 25, 53, 62]\n"
          ],
          "name": "stdout"
        }
      ]
    },
    {
      "cell_type": "code",
      "metadata": {
        "colab": {
          "base_uri": "https://localhost:8080/"
        },
        "id": "fdGlHzx5INm7",
        "outputId": "40f54d75-856f-4d0d-f977-29a4100a58d8"
      },
      "source": [
        "x = ['25', 'Today', '53', 'Sunday', '15'] \r\n",
        "x.sort()\r\n",
        "print(x)"
      ],
      "execution_count": 11,
      "outputs": [
        {
          "output_type": "stream",
          "text": [
            "['15', '25', '53', 'Sunday', 'Today']\n"
          ],
          "name": "stdout"
        }
      ]
    },
    {
      "cell_type": "code",
      "metadata": {
        "colab": {
          "base_uri": "https://localhost:8080/"
        },
        "id": "u2aVC7TvIblz",
        "outputId": "239aa06d-972a-48a4-ac5f-906b5aa03e54"
      },
      "source": [
        "x = [25, 'Today', 53, 'Sunday', 15]\r\n",
        "x.reverse()\r\n",
        "print(x)"
      ],
      "execution_count": 12,
      "outputs": [
        {
          "output_type": "stream",
          "text": [
            "[15, 'Sunday', 53, 'Today', 25]\n"
          ],
          "name": "stdout"
        }
      ]
    },
    {
      "cell_type": "code",
      "metadata": {
        "colab": {
          "base_uri": "https://localhost:8080/"
        },
        "id": "33czK6EtIhLb",
        "outputId": "2263d1f0-75e4-4c51-94d4-fda910176069"
      },
      "source": [
        "x = [25, 35, 53, 25, 52, 35, 25] \r\n",
        "print(x.count(25))"
      ],
      "execution_count": 13,
      "outputs": [
        {
          "output_type": "stream",
          "text": [
            "3\n"
          ],
          "name": "stdout"
        }
      ]
    },
    {
      "cell_type": "code",
      "metadata": {
        "colab": {
          "base_uri": "https://localhost:8080/"
        },
        "id": "aLZi9K31JP0K",
        "outputId": "27fafa8b-bf13-4311-ce5d-38d36279ddbf"
      },
      "source": [
        "x = [25, 35, 53, 25, 52, 35, 25]\r\n",
        "print(len(x))"
      ],
      "execution_count": 14,
      "outputs": [
        {
          "output_type": "stream",
          "text": [
            "7\n"
          ],
          "name": "stdout"
        }
      ]
    },
    {
      "cell_type": "code",
      "metadata": {
        "colab": {
          "base_uri": "https://localhost:8080/"
        },
        "id": "ZkJH5D1gJUvy",
        "outputId": "b46ba126-8cad-48a8-b476-d4826a8a6325"
      },
      "source": [
        "x = [25, 35, 53, 25, 52, 35, 25]\r\n",
        "len(x)\r\n",
        "print(x)"
      ],
      "execution_count": 15,
      "outputs": [
        {
          "output_type": "stream",
          "text": [
            "[25, 35, 53, 25, 52, 35, 25]\n"
          ],
          "name": "stdout"
        }
      ]
    },
    {
      "cell_type": "code",
      "metadata": {
        "colab": {
          "base_uri": "https://localhost:8080/"
        },
        "id": "IL2CF3dwJfCh",
        "outputId": "42194886-12e4-46c5-d15a-76eb89baba6e"
      },
      "source": [
        "x = [25, 35, 53, 25, 52, 35, 25]\r\n",
        "del x[3]\r\n",
        "print(x)"
      ],
      "execution_count": 16,
      "outputs": [
        {
          "output_type": "stream",
          "text": [
            "[25, 35, 53, 52, 35, 25]\n"
          ],
          "name": "stdout"
        }
      ]
    },
    {
      "cell_type": "code",
      "metadata": {
        "colab": {
          "base_uri": "https://localhost:8080/"
        },
        "id": "KgN15i90Jlt6",
        "outputId": "ff605010-3769-4b53-a02b-a0b793546beb"
      },
      "source": [
        "x = [5, 3, 6, 2, 4, 0, 1]\r\n",
        "del x[2:3]\r\n",
        "print(x)"
      ],
      "execution_count": 17,
      "outputs": [
        {
          "output_type": "stream",
          "text": [
            "[5, 3, 2, 4, 0, 1]\n"
          ],
          "name": "stdout"
        }
      ]
    },
    {
      "cell_type": "code",
      "metadata": {
        "colab": {
          "base_uri": "https://localhost:8080/"
        },
        "id": "mRraEI-DJtcC",
        "outputId": "1edd5872-94c5-409a-ac8f-6f03bc719eba"
      },
      "source": [
        "x = [5, 3, 6, 2, 4, 0, 7]\r\n",
        "del x[0:7] \r\n",
        "print(x)"
      ],
      "execution_count": 18,
      "outputs": [
        {
          "output_type": "stream",
          "text": [
            "[]\n"
          ],
          "name": "stdout"
        }
      ]
    },
    {
      "cell_type": "code",
      "metadata": {
        "colab": {
          "base_uri": "https://localhost:8080/"
        },
        "id": "9mSnTjloJ22K",
        "outputId": "33865b70-86b6-48cb-a295-6b195d307912"
      },
      "source": [
        "x = [5, 3, 6, 2, 4, 0, 7] \r\n",
        "del x[0:4]\r\n",
        "print(x)"
      ],
      "execution_count": 19,
      "outputs": [
        {
          "output_type": "stream",
          "text": [
            "[4, 0, 7]\n"
          ],
          "name": "stdout"
        }
      ]
    },
    {
      "cell_type": "code",
      "metadata": {
        "colab": {
          "base_uri": "https://localhost:8080/"
        },
        "id": "bFwiQ0-5KCDy",
        "outputId": "42a6ddc6-4715-423c-a019-2f95cf381e45"
      },
      "source": [
        "x = [5, 3, 6, 2, 4, 0, 7]\r\n",
        "del x[:]\r\n",
        "print(x)"
      ],
      "execution_count": 20,
      "outputs": [
        {
          "output_type": "stream",
          "text": [
            "[]\n"
          ],
          "name": "stdout"
        }
      ]
    },
    {
      "cell_type": "code",
      "metadata": {
        "id": "ULJqsz51KH3a"
      },
      "source": [
        "x = [4, 0, 7] \r\n",
        "y = str(x[0])"
      ],
      "execution_count": 21,
      "outputs": []
    },
    {
      "cell_type": "code",
      "metadata": {
        "id": "9s-W-luMKMwC"
      },
      "source": [
        ""
      ],
      "execution_count": null,
      "outputs": []
    }
  ]
}