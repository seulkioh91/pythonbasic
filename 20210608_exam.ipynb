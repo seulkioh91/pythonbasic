{
  "nbformat": 4,
  "nbformat_minor": 0,
  "metadata": {
    "colab": {
      "name": "20210608 exam.ipynb",
      "provenance": [],
      "authorship_tag": "ABX9TyM18lIhz3tvBYKa7Qg3qFYm",
      "include_colab_link": true
    },
    "kernelspec": {
      "name": "python3",
      "display_name": "Python 3"
    },
    "language_info": {
      "name": "python"
    }
  },
  "cells": [
    {
      "cell_type": "markdown",
      "metadata": {
        "id": "view-in-github",
        "colab_type": "text"
      },
      "source": [
        "<a href=\"https://colab.research.google.com/github/seulkioh91/pythonbasic/blob/main/20210608_exam.ipynb\" target=\"_parent\"><img src=\"https://colab.research.google.com/assets/colab-badge.svg\" alt=\"Open In Colab\"/></a>"
      ]
    },
    {
      "cell_type": "code",
      "metadata": {
        "id": "bG2lh2PWDWZe"
      },
      "source": [
        "class Solution(object):\n",
        "    def getHint(self, secret, guess):\n",
        "        check = {}\n",
        "        ls = len(secret)\n",
        "        bull, cow = 0, 0\n",
        "        different = []\n",
        "        for i in range(ls):\n",
        "            if guess[i] == secret[i]:\n",
        "                bull += 1\n",
        "            else:\n",
        "                different.append(i)\n",
        "                try:\n",
        "                    check[secret[i]] += 1\n",
        "                except KeyError:\n",
        "                    check[secret[i]] = 1\n",
        "        for i in different:\n",
        "            try:\n",
        "                if check[guess[i]] > 0:\n",
        "                    cow += 1\n",
        "                    check[guess[i]] -= 1\n",
        "            except:\n",
        "                pass\n",
        "        return \"%dA%dB\" % (bull, cow)"
      ],
      "execution_count": 13,
      "outputs": []
    },
    {
      "cell_type": "code",
      "metadata": {
        "colab": {
          "base_uri": "https://localhost:8080/"
        },
        "id": "9OA_m4ubD0Kl",
        "outputId": "86eba30c-7dc2-43b5-8210-d6124c96854b"
      },
      "source": [
        "if __name__ == \"__main__\":\n",
        "    s = Solution()\n",
        "    print(s.getHint(\"1807\", \"7810\"))"
      ],
      "execution_count": 14,
      "outputs": [
        {
          "output_type": "stream",
          "text": [
            "1A3B\n"
          ],
          "name": "stdout"
        }
      ]
    },
    {
      "cell_type": "code",
      "metadata": {
        "id": "ZM1J_CkgGMCH"
      },
      "source": [
        ""
      ],
      "execution_count": null,
      "outputs": []
    }
  ]
}