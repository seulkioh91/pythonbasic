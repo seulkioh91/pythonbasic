{
  "nbformat": 4,
  "nbformat_minor": 0,
  "metadata": {
    "colab": {
      "name": "210219PracticeForTest.ipynb",
      "provenance": [],
      "authorship_tag": "ABX9TyOzm92nmLkOJxO1NHx29scE",
      "include_colab_link": true
    },
    "kernelspec": {
      "name": "python3",
      "display_name": "Python 3"
    }
  },
  "cells": [
    {
      "cell_type": "markdown",
      "metadata": {
        "id": "view-in-github",
        "colab_type": "text"
      },
      "source": [
        "<a href=\"https://colab.research.google.com/github/seulkioh91/pythonbasic/blob/main/210219PracticeForTest.ipynb\" target=\"_parent\"><img src=\"https://colab.research.google.com/assets/colab-badge.svg\" alt=\"Open In Colab\"/></a>"
      ]
    },
    {
      "cell_type": "code",
      "metadata": {
        "colab": {
          "base_uri": "https://localhost:8080/"
        },
        "id": "I3OVJ9ZnimOd",
        "outputId": "623e3fb9-04ec-411e-8eaf-4af64e3a696f"
      },
      "source": [
        "nums=[100,200,300,400,500]\r\n",
        "del nums[3:]\r\n",
        "print(nums)"
      ],
      "execution_count": null,
      "outputs": [
        {
          "output_type": "stream",
          "text": [
            "[100, 200, 300]\n"
          ],
          "name": "stdout"
        }
      ]
    },
    {
      "cell_type": "code",
      "metadata": {
        "colab": {
          "base_uri": "https://localhost:8080/"
        },
        "id": "cX2sFSO3iyUA",
        "outputId": "2f812ed7-72b2-4335-9fb1-8487023554b7"
      },
      "source": [
        "i = [200,100,300]\r\n",
        "i.insert(2,10000)\r\n",
        "print(i)"
      ],
      "execution_count": null,
      "outputs": [
        {
          "output_type": "stream",
          "text": [
            "[200, 100, 10000, 300]\n"
          ],
          "name": "stdout"
        }
      ]
    },
    {
      "cell_type": "code",
      "metadata": {
        "colab": {
          "base_uri": "https://localhost:8080/"
        },
        "id": "DGn6hmQqi_zo",
        "outputId": "7c0feb8c-48a5-4a48-bf63-cc65603c3bae"
      },
      "source": [
        "i=[100,200,300]\r\n",
        "print(type(i))"
      ],
      "execution_count": null,
      "outputs": [
        {
          "output_type": "stream",
          "text": [
            "<class 'list'>\n"
          ],
          "name": "stdout"
        }
      ]
    },
    {
      "cell_type": "code",
      "metadata": {
        "colab": {
          "base_uri": "https://localhost:8080/"
        },
        "id": "O18UluExjIO4",
        "outputId": "c52201a1-2a1d-44ce-a4f6-083989a48646"
      },
      "source": [
        "a=1\r\n",
        "print(type(a))"
      ],
      "execution_count": null,
      "outputs": [
        {
          "output_type": "stream",
          "text": [
            "<class 'int'>\n"
          ],
          "name": "stdout"
        }
      ]
    },
    {
      "cell_type": "code",
      "metadata": {
        "id": "AE_lRNtujPJY",
        "colab": {
          "base_uri": "https://localhost:8080/"
        },
        "outputId": "8489fc57-e078-4a2f-a8e1-2ea29583b17a"
      },
      "source": [
        "#15. 자기소개\r\n",
        "name = input()\r\n",
        "print(\"안녕하세요. 저는 %s 입니다.\" % name)"
      ],
      "execution_count": null,
      "outputs": [
        {
          "output_type": "stream",
          "text": [
            "오슬기\n",
            "안녕하세요. 저는 오슬기 입니다.\n"
          ],
          "name": "stdout"
        }
      ]
    },
    {
      "cell_type": "code",
      "metadata": {
        "colab": {
          "base_uri": "https://localhost:8080/"
        },
        "id": "705vUDwJXWIT",
        "outputId": "8f19ac44-e633-4243-a8c8-b6b035dce8ee"
      },
      "source": [
        "#16. 로꾸꺼\r\n",
        "r = input('')\r\n",
        "# print(r)\r\n",
        "print(''.join(reversed(r)))"
      ],
      "execution_count": null,
      "outputs": [
        {
          "output_type": "stream",
          "text": [
            "김철수바보\n",
            "보바수철김\n"
          ],
          "name": "stdout"
        }
      ]
    },
    {
      "cell_type": "code",
      "metadata": {
        "id": "XiRAQfVaj2Uq",
        "colab": {
          "base_uri": "https://localhost:8080/"
        },
        "outputId": "c13221e3-5c80-4eef-9916-4cb946b6c7b7"
      },
      "source": [
        "#17. 놀이기구 키 제한\r\n",
        "# 150이 넘으면 yes 출력 / 아니면 no 출력\r\n",
        "\r\n",
        "height=int(input(''))\r\n",
        "if height >= 150 :\r\n",
        "  print('no')\r\n",
        "else:\r\n",
        "  print('yes')"
      ],
      "execution_count": null,
      "outputs": [
        {
          "output_type": "stream",
          "text": [
            "160\n",
            "no\n"
          ],
          "name": "stdout"
        }
      ]
    },
    {
      "cell_type": "code",
      "metadata": {
        "id": "WhV4Qh40OLbZ",
        "colab": {
          "base_uri": "https://localhost:8080/"
        },
        "outputId": "778064d5-d7e2-4273-9b55-3e65542c058b"
      },
      "source": [
        "#18.  20 30 40 입력은 각 점수를 공백으로 구분하여 한번에 입력받음\r\n",
        "# 3과목, 4과목 5과목 과목의 수는 달라질 수 도 있다. \r\n",
        "\r\n",
        "n=list(map(int,input().split()))\r\n",
        "i=0\r\n",
        "_sum = 0\r\n",
        "while i < len(n):\r\n",
        "  _sum += n[i]\r\n",
        "  i+= 1\r\n",
        "print(_sum)\r\n",
        "print(len(n))\r\n",
        "print(_sum / len(n))"
      ],
      "execution_count": null,
      "outputs": [
        {
          "output_type": "stream",
          "text": [
            "20 30 40\n",
            "90\n",
            "3\n",
            "30.0\n"
          ],
          "name": "stdout"
        }
      ]
    },
    {
      "cell_type": "code",
      "metadata": {
        "id": "XKGYpigDX9VL",
        "colab": {
          "base_uri": "https://localhost:8080/"
        },
        "outputId": "692d4c4d-bfe3-4084-8efe-7dd165074b51"
      },
      "source": [
        "#19. 제곱을 구하자\r\n",
        "a,b = map(int,input().split())\r\n",
        "print(a**b)"
      ],
      "execution_count": null,
      "outputs": [
        {
          "output_type": "stream",
          "text": [
            "3 2\n",
            "9\n"
          ],
          "name": "stdout"
        }
      ]
    },
    {
      "cell_type": "code",
      "metadata": {
        "id": "GQWsH_A4XvK2"
      },
      "source": [
        ""
      ],
      "execution_count": null,
      "outputs": []
    }
  ]
}