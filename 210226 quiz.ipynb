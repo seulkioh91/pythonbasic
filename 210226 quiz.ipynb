{
 "cells": [
  {
   "cell_type": "code",
   "execution_count": 1,
   "metadata": {},
   "outputs": [
    {
     "name": "stdout",
     "output_type": "stream",
     "text": [
      "Yujin Hyewon\n",
      "70 100\n",
      "{'Yujin': 70, 'Hyewon': 100}\n"
     ]
    }
   ],
   "source": [
    "key = input().split()\n",
    "value = map(int, input().split())\n",
    "\n",
    "print(dict(zip(key,value)))"
   ]
  },
  {
   "cell_type": "code",
   "execution_count": 11,
   "metadata": {},
   "outputs": [
    {
     "name": "stdout",
     "output_type": "stream",
     "text": [
      "python1\n",
      "py\n",
      "yt\n",
      "th\n",
      "ho\n",
      "on\n",
      "n1\n",
      "1\n"
     ]
    }
   ],
   "source": [
    "a=input()\n",
    "n=0\n",
    "\n",
    "for n in range(len(a)):\n",
    "    print(a[n:n+2])"
   ]
  },
  {
   "cell_type": "markdown",
   "metadata": {},
   "source": [
    "선생님 답"
   ]
  },
  {
   "cell_type": "code",
   "execution_count": 21,
   "metadata": {},
   "outputs": [
    {
     "name": "stdout",
     "output_type": "stream",
     "text": [
      "python1\n",
      "py\n",
      "yt\n",
      "th\n",
      "ho\n",
      "on\n",
      "n1\n"
     ]
    }
   ],
   "source": [
    "txt = input()\n",
    "for i in range(len(txt)-1):\n",
    "    print(txt[i],txt[i+1],sep='')"
   ]
  },
  {
   "cell_type": "markdown",
   "metadata": {},
   "source": [
    "29번"
   ]
  },
  {
   "cell_type": "code",
   "execution_count": 36,
   "metadata": {},
   "outputs": [
    {
     "name": "stdout",
     "output_type": "stream",
     "text": [
      "1\n"
     ]
    }
   ],
   "source": [
    "word = input()\n",
    "if word.isupper() == True:\n",
    "    print(\"YES\")\n",
    "elif word.islower() == True:\n",
    "    print(\"NO\")"
   ]
  },
  {
   "cell_type": "code",
   "execution_count": 40,
   "metadata": {},
   "outputs": [
    {
     "name": "stdout",
     "output_type": "stream",
     "text": [
      "a\n",
      "NO\n"
     ]
    }
   ],
   "source": [
    "txt = input()\n",
    "if ord(txt) >= 65 and ord(txt) <=90 :\n",
    "    print('YES')\n",
    "else:\n",
    "    print('NO')"
   ]
  },
  {
   "cell_type": "code",
   "execution_count": 41,
   "metadata": {},
   "outputs": [
    {
     "name": "stdout",
     "output_type": "stream",
     "text": [
      "a\n",
      "NO\n"
     ]
    }
   ],
   "source": [
    "txt = input()\n",
    "if txt>=chr(65) and txt <= chr(90):\n",
    "    print(\"YES\")\n",
    "else:\n",
    "    print(\"NO\")"
   ]
  },
  {
   "cell_type": "markdown",
   "metadata": {},
   "source": [
    "isupper 대문자인지 확인\n",
    "islower 소문자인지 확인\n",
    "isdigit 숫자인지 확인"
   ]
  },
  {
   "cell_type": "code",
   "execution_count": 48,
   "metadata": {},
   "outputs": [
    {
     "name": "stdout",
     "output_type": "stream",
     "text": [
      "pineapple is yummy\n",
      "apple\n",
      "4\n"
     ]
    }
   ],
   "source": [
    "a=input()\n",
    "b=input()\n",
    "if b in a :\n",
    "    print(a.index(b))"
   ]
  },
  {
   "cell_type": "code",
   "execution_count": 49,
   "metadata": {},
   "outputs": [
    {
     "name": "stdout",
     "output_type": "stream",
     "text": [
      "pineapple is yummy\n",
      "apple\n",
      "4\n"
     ]
    }
   ],
   "source": [
    "a=input()\n",
    "b=input()\n",
    "if b in a :\n",
    "    print(a.find(b))"
   ]
  },
  {
   "cell_type": "markdown",
   "metadata": {},
   "source": [
    "### 31번\n",
    "리스트의 내장함수의 시간 복잡도가 O(1)이 아닌 것은?\n",
    "1) I[i]\n",
    "2) I.append(5)\n",
    "3) I[a:b]\n",
    "4) I.pop()\n",
    "5) I.clear()"
   ]
  },
  {
   "cell_type": "markdown",
   "metadata": {},
   "source": [
    "정답은 3 \n",
    "1번은 i한번에 불러온다\n",
    "2번은 5를 추가하면 끝 \n",
    "3번은 a에서 b까지 쭈루루룩 불러오는데 어디부터 어디까진지 알 수 없다. \n",
    "4번은 5하나 추출\n",
    "5번은 지우면 끝"
   ]
  },
  {
   "cell_type": "code",
   "execution_count": 61,
   "metadata": {},
   "outputs": [
    {
     "name": "stdout",
     "output_type": "stream",
     "text": [
      "저 넓은 세상을 네 눈앞에 그려봐 네 진심을 느껴봐\n"
     ]
    },
    {
     "data": {
      "text/plain": [
       "9"
      ]
     },
     "execution_count": 61,
     "metadata": {},
     "output_type": "execute_result"
    }
   ],
   "source": [
    "a=input()\n",
    "a1 = a.split(\" \")\n",
    "len(a1)"
   ]
  },
  {
   "cell_type": "code",
   "execution_count": 64,
   "metadata": {},
   "outputs": [
    {
     "name": "stdout",
     "output_type": "stream",
     "text": [
      "저 넓은 세상을 네 눈앞에 그려봐 네 진심을 느껴봐\n",
      "9\n"
     ]
    }
   ],
   "source": [
    "txt = input()\n",
    "a = list(txt.split())\n",
    "print(len(a))"
   ]
  },
  {
   "cell_type": "markdown",
   "metadata": {},
   "source": [
    "33번"
   ]
  },
  {
   "cell_type": "code",
   "execution_count": 73,
   "metadata": {},
   "outputs": [
    {
     "name": "stdout",
     "output_type": "stream",
     "text": [
      "1 2 3 4 5\n",
      "5 4 3 2 1\n"
     ]
    }
   ],
   "source": [
    "a=input('')\n",
    "print(''.join(reversed(a)))"
   ]
  },
  {
   "cell_type": "code",
   "execution_count": 78,
   "metadata": {},
   "outputs": [
    {
     "name": "stdout",
     "output_type": "stream",
     "text": [
      "1 2 3 4 5\n",
      "5 4 3 2 1 "
     ]
    }
   ],
   "source": [
    "txt = input()\n",
    "txt2 = list(txt.split())\n",
    "txt3 = [int(i) for i in txt2]\n",
    "for i in range(len(txt3)-1,-1,-1):\n",
    "    print(txt3[i], end=' ')\n",
    "\n"
   ]
  },
  {
   "cell_type": "code",
   "execution_count": null,
   "metadata": {},
   "outputs": [],
   "source": [
    "a= input(int())\n",
    "h1= a.sort()\n",
    "\n",
    "if h1 != a:\n",
    "    print('NO')"
   ]
  },
  {
   "cell_type": "code",
   "execution_count": 87,
   "metadata": {},
   "outputs": [
    {
     "name": "stdout",
     "output_type": "stream",
     "text": [
      "[1, 2, 3]\n"
     ]
    }
   ],
   "source": [
    "list = [1,3,2]\n",
    "print(sorted(list))"
   ]
  },
  {
   "cell_type": "code",
   "execution_count": 88,
   "metadata": {},
   "outputs": [
    {
     "name": "stdout",
     "output_type": "stream",
     "text": [
      "None\n"
     ]
    }
   ],
   "source": [
    "list = [1,3,2]\n",
    "print(list.sort())"
   ]
  },
  {
   "cell_type": "code",
   "execution_count": 89,
   "metadata": {},
   "outputs": [
    {
     "name": "stdout",
     "output_type": "stream",
     "text": [
      "[1, 2, 3]\n"
     ]
    }
   ],
   "source": [
    "print(list)"
   ]
  },
  {
   "cell_type": "code",
   "execution_count": 90,
   "metadata": {},
   "outputs": [],
   "source": [
    "# <list>.sort() 를 사용하면 원본 리스트 자체의 순서를 변화시킨다.\n",
    "    \n",
    "# sorted(<list>) 를 사용하면 정렬된 새로운 리스트를 반환 받는다.\n",
    "    \n",
    "# <list>.sort()는 새로운 복사본을 만들지 않기 때문에,\n",
    "    \n",
    "# sorted(<list>)보다 빠르다."
   ]
  },
  {
   "cell_type": "code",
   "execution_count": null,
   "metadata": {},
   "outputs": [],
   "source": [
    "num1 = input()\n",
    "num2 = list.sort("
   ]
  },
  {
   "cell_type": "code",
   "execution_count": null,
   "metadata": {},
   "outputs": [],
   "source": [
    "print(sum(map(int, input())))"
   ]
  },
  {
   "cell_type": "code",
   "execution_count": null,
   "metadata": {},
   "outputs": [],
   "source": []
  }
 ],
 "metadata": {
  "kernelspec": {
   "display_name": "Python 3",
   "language": "python",
   "name": "python3"
  },
  "language_info": {
   "codemirror_mode": {
    "name": "ipython",
    "version": 3
   },
   "file_extension": ".py",
   "mimetype": "text/x-python",
   "name": "python",
   "nbconvert_exporter": "python",
   "pygments_lexer": "ipython3",
   "version": "3.8.5"
  }
 },
 "nbformat": 4,
 "nbformat_minor": 4
}
