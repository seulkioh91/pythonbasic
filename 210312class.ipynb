{
  "nbformat": 4,
  "nbformat_minor": 0,
  "metadata": {
    "colab": {
      "name": "210312class.ipynb",
      "provenance": [],
      "authorship_tag": "ABX9TyOjycXRAMzCoH4NXm4KSQMd",
      "include_colab_link": true
    },
    "kernelspec": {
      "name": "python3",
      "display_name": "Python 3"
    }
  },
  "cells": [
    {
      "cell_type": "markdown",
      "metadata": {
        "id": "view-in-github",
        "colab_type": "text"
      },
      "source": [
        "<a href=\"https://colab.research.google.com/github/seulkioh91/pythonbasic/blob/main/210312class.ipynb\" target=\"_parent\"><img src=\"https://colab.research.google.com/assets/colab-badge.svg\" alt=\"Open In Colab\"/></a>"
      ]
    },
    {
      "cell_type": "code",
      "metadata": {
        "colab": {
          "base_uri": "https://localhost:8080/",
          "height": 54
        },
        "id": "wcTeh0KxOV6u",
        "outputId": "b7b5e35e-d7d6-427c-cd93-80a2d6d66b24"
      },
      "source": [
        "a=input() #입력받기\r\n",
        "a.swapcase() #swapcase라는 대문자->소문자/ 소문자->대문자 변환 메소드 사용"
      ],
      "execution_count": 5,
      "outputs": [
        {
          "output_type": "stream",
          "text": [
            "AAABBBcccddd\n"
          ],
          "name": "stdout"
        },
        {
          "output_type": "execute_result",
          "data": {
            "application/vnd.google.colaboratory.intrinsic+json": {
              "type": "string"
            },
            "text/plain": [
              "'aaabbbCCCDDD'"
            ]
          },
          "metadata": {
            "tags": []
          },
          "execution_count": 5
        }
      ]
    },
    {
      "cell_type": "code",
      "metadata": {
        "colab": {
          "base_uri": "https://localhost:8080/"
        },
        "id": "4hPGAreWObIZ",
        "outputId": "6d27b449-ca0a-4221-ad9a-083e7684d400"
      },
      "source": [
        "a = map(int,input().split(' ')) #여러 값 입력받는것 분리\r\n",
        "b = sorted(a) #정렬\r\n",
        "print(max(b)) #최대값 출력\r\n"
      ],
      "execution_count": 14,
      "outputs": [
        {
          "output_type": "stream",
          "text": [
            "2 4 6 8 10\n",
            "10\n"
          ],
          "name": "stdout"
        }
      ]
    },
    {
      "cell_type": "code",
      "metadata": {
        "id": "3gsR-eEEZYK8"
      },
      "source": [
        "student = ['강은지', '김유정', '박현서', '최성훈', '홍유진', '박지호', \r\n",
        "           '권윤일', '김채리', '한지호', '김진이', '김민호', '강채연']\r\n",
        "a = sorted(student)"
      ],
      "execution_count": 16,
      "outputs": []
    },
    {
      "cell_type": "code",
      "metadata": {
        "colab": {
          "base_uri": "https://localhost:8080/"
        },
        "id": "l7b0LBe9j5T3",
        "outputId": "1f9c4750-8b3c-49e4-cc8b-744dc44eb89c"
      },
      "source": [
        "student = ['강은지', '김유정', '박현서', '최성훈', '홍유진', '박지호', \r\n",
        "           '권윤일', '김채리', '한지호', '김진이', '김민호', '강채연']\r\n",
        "\r\n",
        "student.sort()#정렬\r\n",
        "\r\n",
        "for i in range (len(student)): \r\n",
        "  print(\"번호:{0}, 이름:{1}\".format(i+1,student[i]))"
      ],
      "execution_count": 28,
      "outputs": [
        {
          "output_type": "stream",
          "text": [
            "번호:1, 이름:강은지\n",
            "번호:2, 이름:강채연\n",
            "번호:3, 이름:권윤일\n",
            "번호:4, 이름:김민호\n",
            "번호:5, 이름:김유정\n",
            "번호:6, 이름:김진이\n",
            "번호:7, 이름:김채리\n",
            "번호:8, 이름:박지호\n",
            "번호:9, 이름:박현서\n",
            "번호:10, 이름:최성훈\n",
            "번호:11, 이름:한지호\n",
            "번호:12, 이름:홍유진\n"
          ],
          "name": "stdout"
        }
      ]
    },
    {
      "cell_type": "code",
      "metadata": {
        "colab": {
          "base_uri": "https://localhost:8080/"
        },
        "id": "4NtqER45mDlz",
        "outputId": "fcf608d5-d692-432b-beb1-60e59ece99ba"
      },
      "source": [
        "student = ['강은지', '김유정', '박현서', '최성훈', '홍유진', '박지호', \r\n",
        "           '권윤일', '김채리', '한지호', '김진이', '김민호', '강채연']\r\n",
        "\r\n",
        "for i,value in enumerate(student) :\r\n",
        "    print(\"번호 : \",i+1,\", 이름 :\",value)"
      ],
      "execution_count": 25,
      "outputs": [
        {
          "output_type": "stream",
          "text": [
            "번호 :  1 , 이름 : 강은지\n",
            "번호 :  2 , 이름 : 김유정\n",
            "번호 :  3 , 이름 : 박현서\n",
            "번호 :  4 , 이름 : 최성훈\n",
            "번호 :  5 , 이름 : 홍유진\n",
            "번호 :  6 , 이름 : 박지호\n",
            "번호 :  7 , 이름 : 권윤일\n",
            "번호 :  8 , 이름 : 김채리\n",
            "번호 :  9 , 이름 : 한지호\n",
            "번호 :  10 , 이름 : 김진이\n",
            "번호 :  11 , 이름 : 김민호\n",
            "번호 :  12 , 이름 : 강채연\n"
          ],
          "name": "stdout"
        }
      ]
    },
    {
      "cell_type": "code",
      "metadata": {
        "colab": {
          "base_uri": "https://localhost:8080/"
        },
        "id": "s1E1mrROj5-W",
        "outputId": "998071c8-79eb-4f65-8f35-39b9e6918ee1"
      },
      "source": [
        "zero=\"\"\r\n",
        "one=\"a\"\r\n",
        "two=\"aa\"\r\n",
        "three=\"aaa\"\r\n",
        "nine=\"aaaaaaaaa\"\r\n",
        "print(len(two),len(zero),len(one),len(nine),len(zero),len(nine),len(two),len(three),sep='')\r\n"
      ],
      "execution_count": 51,
      "outputs": [
        {
          "output_type": "stream",
          "text": [
            "20190923\n"
          ],
          "name": "stdout"
        }
      ]
    },
    {
      "cell_type": "code",
      "metadata": {
        "colab": {
          "base_uri": "https://localhost:8080/"
        },
        "id": "5meBuJM4pKT_",
        "outputId": "071689cf-2658-4a84-efbf-e111a6b41522"
      },
      "source": [
        "str = \"aacdddddddddfff\"\r\n",
        "print(str.count('a'), end='')\r\n",
        "print(str.count('b'), end='')\r\n",
        "print(str.count('c'), end='')\r\n",
        "print(str.count('d'), end='')\r\n",
        "print(str.count('b'), end='')\r\n",
        "print(str.count('d'), end='')\r\n",
        "print(str.count('a'), end='')\r\n",
        "print(str.count('f'), end='')"
      ],
      "execution_count": 50,
      "outputs": [
        {
          "output_type": "stream",
          "text": [
            "20190923"
          ],
          "name": "stdout"
        }
      ]
    },
    {
      "cell_type": "code",
      "metadata": {
        "colab": {
          "base_uri": "https://localhost:8080/"
        },
        "id": "cHFJ1KXu7kAm",
        "outputId": "f4d3392a-6b8c-4f37-ad05-4b8018883eb0"
      },
      "source": [
        "a = list(input().split(' ')) #입력값을 공백 기준으로 자르기\r\n",
        "out = ''\r\n",
        "for i in a: #반복해줘야한다. a로 잘라진 수량만큼\r\n",
        "  out = out + i[0] #out 값의 인덱스0번째 값들만 가져와 붙인다.\r\n",
        "print(out)"
      ],
      "execution_count": 79,
      "outputs": [
        {
          "output_type": "stream",
          "text": [
            "복잡한 세상 편하게 살자\n",
            "복세편살\n"
          ],
          "name": "stdout"
        }
      ]
    },
    {
      "cell_type": "code",
      "metadata": {
        "colab": {
          "base_uri": "https://localhost:8080/"
        },
        "id": "S6sHN4C8D7zA",
        "outputId": "cb2f3cc5-f55b-44db-f5d8-5504d8721e05"
      },
      "source": [
        "a = input().split(' ')\r\n",
        "for i in a:\r\n",
        "  print(i[0], end='')\r\n"
      ],
      "execution_count": 80,
      "outputs": [
        {
          "output_type": "stream",
          "text": [
            "복잡한 세상 편하게 살자\n",
            "복세편살"
          ],
          "name": "stdout"
        }
      ]
    },
    {
      "cell_type": "code",
      "metadata": {
        "colab": {
          "base_uri": "https://localhost:8080/"
        },
        "id": "E6fmAafZLZF3",
        "outputId": "5744fc27-2929-4995-a6bd-4bf17014d5cc"
      },
      "source": [
        "print(len(input())) #입력받은 값을len으로 세어준다."
      ],
      "execution_count": 89,
      "outputs": [
        {
          "output_type": "stream",
          "text": [
            "123\n",
            "3\n"
          ],
          "name": "stdout"
        }
      ]
    },
    {
      "cell_type": "code",
      "metadata": {
        "colab": {
          "base_uri": "https://localhost:8080/"
        },
        "id": "-GwmTheGRNSu",
        "outputId": "013ffbf8-55c3-489a-d3b7-5e62a8aecdf7"
      },
      "source": [
        "print('%s자리수입니다'%len(input()))"
      ],
      "execution_count": 90,
      "outputs": [
        {
          "output_type": "stream",
          "text": [
            "123\n",
            "3자리수입니다\n"
          ],
          "name": "stdout"
        }
      ]
    },
    {
      "cell_type": "code",
      "metadata": {
        "colab": {
          "base_uri": "https://localhost:8080/"
        },
        "id": "TMcjI0_TWeJ1",
        "outputId": "2ea772c7-aa1d-4d77-d51a-70031977adde"
      },
      "source": [
        "text = input()\r\n",
        "print(len(text)-text.count(' '))"
      ],
      "execution_count": 107,
      "outputs": [
        {
          "output_type": "stream",
          "text": [
            "김삿갓 김\n",
            "4\n"
          ],
          "name": "stdout"
        }
      ]
    },
    {
      "cell_type": "code",
      "metadata": {
        "id": "gzsjATG8fSeD"
      },
      "source": [
        ""
      ],
      "execution_count": 96,
      "outputs": []
    }
  ]
}