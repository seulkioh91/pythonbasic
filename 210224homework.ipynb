{
  "nbformat": 4,
  "nbformat_minor": 0,
  "metadata": {
    "colab": {
      "name": "210224homework",
      "provenance": [],
      "collapsed_sections": [],
      "authorship_tag": "ABX9TyOkpHpsONCG1VfNOOXH3r+W",
      "include_colab_link": true
    },
    "kernelspec": {
      "name": "python3",
      "display_name": "Python 3"
    }
  },
  "cells": [
    {
      "cell_type": "markdown",
      "metadata": {
        "id": "view-in-github",
        "colab_type": "text"
      },
      "source": [
        "<a href=\"https://colab.research.google.com/github/seulkioh91/pythonbasic/blob/main/210224homework.ipynb\" target=\"_parent\"><img src=\"https://colab.research.google.com/assets/colab-badge.svg\" alt=\"Open In Colab\"/></a>"
      ]
    },
    {
      "cell_type": "code",
      "metadata": {
        "colab": {
          "base_uri": "https://localhost:8080/"
        },
        "id": "GuyAeTwyOMgI",
        "outputId": "b21ad715-5549-498d-9f71-ad8a850719d4"
      },
      "source": [
        "x = {5:4, 8:8, 3:16, 9:32} \r\n",
        "print(sorted(x.items()))"
      ],
      "execution_count": 1,
      "outputs": [
        {
          "output_type": "stream",
          "text": [
            "[(3, 16), (5, 4), (8, 8), (9, 32)]\n"
          ],
          "name": "stdout"
        }
      ]
    },
    {
      "cell_type": "code",
      "metadata": {
        "colab": {
          "base_uri": "https://localhost:8080/"
        },
        "id": "yePskOFTONlL",
        "outputId": "a53b47bf-1685-4693-a090-526b65b272c1"
      },
      "source": [
        "x = 50 \r\n",
        "if x > 10 and x < 15: print('true') \r\n",
        "elif x > 15 and x < 25: print('not true')\r\n",
        "elif x > 25 and x < 35: print('false')\r\n",
        "else: print('not false')"
      ],
      "execution_count": 5,
      "outputs": [
        {
          "output_type": "stream",
          "text": [
            "not false\n"
          ],
          "name": "stdout"
        }
      ]
    },
    {
      "cell_type": "code",
      "metadata": {
        "colab": {
          "base_uri": "https://localhost:8080/"
        },
        "id": "5xmNbFFXOtNb",
        "outputId": "7b9deb02-cc9d-4b13-ee02-f7ea937c0a32"
      },
      "source": [
        "x = 25 \r\n",
        "if x > 10 and x < 15: print('true') \r\n",
        "elif x > 15 and x < 25: print('not true')\r\n",
        "elif x > 25 and x < 35: print('false')\r\n",
        "else: print('not false')"
      ],
      "execution_count": 6,
      "outputs": [
        {
          "output_type": "stream",
          "text": [
            "not false\n"
          ],
          "name": "stdout"
        }
      ]
    },
    {
      "cell_type": "code",
      "metadata": {
        "colab": {
          "base_uri": "https://localhost:8080/"
        },
        "id": "JVzxN91jPE4Z",
        "outputId": "798d6ea4-61e4-4859-afaa-362fb6e90f1b"
      },
      "source": [
        "\r\n",
        "x = 15 \r\n",
        "if x > 10 and x <= 15: print('true') \r\n",
        "elif x > 15 and x < 25: print('not true')\r\n",
        "elif x > 25 and x < 35: print('false') \r\n",
        "else: print('not false')"
      ],
      "execution_count": 7,
      "outputs": [
        {
          "output_type": "stream",
          "text": [
            "true\n"
          ],
          "name": "stdout"
        }
      ]
    },
    {
      "cell_type": "code",
      "metadata": {
        "colab": {
          "base_uri": "https://localhost:8080/"
        },
        "id": "nfCicVkhPMF4",
        "outputId": "d26a735d-0b8c-4322-daab-b91f91e044fc"
      },
      "source": [
        "x = 25 \r\n",
        "if x > 10 and x <= 15: print('true') \r\n",
        "elif x >= 15 and x < 25: print('not true')\r\n",
        "elif x >= 25 and x < 35: print('false') \r\n",
        "else: print('not false')"
      ],
      "execution_count": 8,
      "outputs": [
        {
          "output_type": "stream",
          "text": [
            "false\n"
          ],
          "name": "stdout"
        }
      ]
    },
    {
      "cell_type": "code",
      "metadata": {
        "colab": {
          "base_uri": "https://localhost:8080/"
        },
        "id": "SasSsyplPT3J",
        "outputId": "d6d3e59f-bbfc-47c8-9b66-4daf613169be"
      },
      "source": [
        "x = 25 \r\n",
        "if x >= 10 and x <= 15: print('true') \r\n",
        "elif x >= 15 and x <= 25: print('not true')\r\n",
        "elif x >= 25 and x <= 35: print('false') \r\n",
        "else: print('not false')"
      ],
      "execution_count": 9,
      "outputs": [
        {
          "output_type": "stream",
          "text": [
            "not true\n"
          ],
          "name": "stdout"
        }
      ]
    },
    {
      "cell_type": "code",
      "metadata": {
        "colab": {
          "base_uri": "https://localhost:8080/"
        },
        "id": "IgkRZVvPPghA",
        "outputId": "d4dfc703-03aa-4f06-e62c-a795cf070659"
      },
      "source": [
        "\r\n",
        "x = 20 \r\n",
        "if x <= 10 or x >= 75: print('true') \r\n",
        "elif x <= 15 or x >= 55: print('not true')\r\n",
        "elif x <= 25 or x >= 35: print('false') \r\n",
        "else: print('not false')"
      ],
      "execution_count": 10,
      "outputs": [
        {
          "output_type": "stream",
          "text": [
            "false\n"
          ],
          "name": "stdout"
        }
      ]
    },
    {
      "cell_type": "code",
      "metadata": {
        "colab": {
          "base_uri": "https://localhost:8080/"
        },
        "id": "dvvPZwJiPp6w",
        "outputId": "e866827a-e3f3-4dbd-e2af-0360b2a899b3"
      },
      "source": [
        "x = 30 \r\n",
        "if x <= 10 or x >= 75: print('true') \r\n",
        "elif x <= 15 or x >= 55: print('not true')\r\n",
        "elif x <= 25 or x >= 35: print('false') \r\n",
        "else: print('not false')"
      ],
      "execution_count": 11,
      "outputs": [
        {
          "output_type": "stream",
          "text": [
            "not false\n"
          ],
          "name": "stdout"
        }
      ]
    },
    {
      "cell_type": "code",
      "metadata": {
        "colab": {
          "base_uri": "https://localhost:8080/"
        },
        "id": "dTX1vJayPzZ5",
        "outputId": "47b50a26-bd74-4356-c2fe-15872d6015d2"
      },
      "source": [
        "x = 80 \r\n",
        "if x <= 10 or x >= 75: print('true') \r\n",
        "elif x <= 15 or x >= 55: print('not true')\r\n",
        "elif x <= 25 or x >= 35: print('false') \r\n",
        "else: print('not false')"
      ],
      "execution_count": 12,
      "outputs": [
        {
          "output_type": "stream",
          "text": [
            "true\n"
          ],
          "name": "stdout"
        }
      ]
    },
    {
      "cell_type": "code",
      "metadata": {
        "colab": {
          "base_uri": "https://localhost:8080/"
        },
        "id": "sDer-rY9P7NB",
        "outputId": "fd89f705-3f06-4c59-df6f-1b575e82d5db"
      },
      "source": [
        "\r\n",
        "x = 60 \r\n",
        "if x <= 10 or x >= 75: print('true') \r\n",
        "elif x <= 15 or x >= 55: print('not true')\r\n",
        "elif x <= 25 or x >= 35: print('false') \r\n",
        "else: print('not false')"
      ],
      "execution_count": 13,
      "outputs": [
        {
          "output_type": "stream",
          "text": [
            "not true\n"
          ],
          "name": "stdout"
        }
      ]
    },
    {
      "cell_type": "code",
      "metadata": {
        "colab": {
          "base_uri": "https://localhost:8080/"
        },
        "id": "2EywD045QGTw",
        "outputId": "a0e975b5-9a71-45bf-9b3d-8457d12e5984"
      },
      "source": [
        "x = 68 \r\n",
        "if x <= 50 and x >= 25: print('true')\r\n",
        "elif x <= 60 or x >= 55: print('not true')\r\n",
        "elif x <= 70 and x >= 35: print('false') \r\n",
        "else: print('not false')"
      ],
      "execution_count": 14,
      "outputs": [
        {
          "output_type": "stream",
          "text": [
            "not true\n"
          ],
          "name": "stdout"
        }
      ]
    },
    {
      "cell_type": "code",
      "metadata": {
        "colab": {
          "base_uri": "https://localhost:8080/"
        },
        "id": "VUrTRSTYQN0w",
        "outputId": "0019cb79-78ba-417a-c212-7b5cbd286b01"
      },
      "source": [
        "x = 99 \r\n",
        "if x <= 30 or x >= 100: print('true') \r\n",
        "elif x >= 50 and x <= 80: print('not true')\r\n",
        "elif x >= 100 or x <= 75: print('false') \r\n",
        "else: print('not false')"
      ],
      "execution_count": 15,
      "outputs": [
        {
          "output_type": "stream",
          "text": [
            "not false\n"
          ],
          "name": "stdout"
        }
      ]
    },
    {
      "cell_type": "code",
      "metadata": {
        "colab": {
          "base_uri": "https://localhost:8080/"
        },
        "id": "pk4fqjrLQWSH",
        "outputId": "500c65e7-5279-493f-fd01-40316b4b3de5"
      },
      "source": [
        "\r\n",
        "x = 70 \r\n",
        "if x <= 30 or x >= 100: print('true') \r\n",
        "elif x <= 50 and x == 50: print('not true')\r\n",
        "elif x >= 150 or x <= 75: print('false') \r\n",
        "else: print('not false')"
      ],
      "execution_count": 16,
      "outputs": [
        {
          "output_type": "stream",
          "text": [
            "false\n"
          ],
          "name": "stdout"
        }
      ]
    },
    {
      "cell_type": "code",
      "metadata": {
        "id": "xCmsfGV9QdAY"
      },
      "source": [
        ""
      ],
      "execution_count": null,
      "outputs": []
    }
  ]
}