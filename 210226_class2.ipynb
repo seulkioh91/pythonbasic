{
  "nbformat": 4,
  "nbformat_minor": 0,
  "metadata": {
    "colab": {
      "name": "210226_class2.ipynb",
      "provenance": [],
      "collapsed_sections": [],
      "authorship_tag": "ABX9TyNhq4f+amWYdwvNM+6LNucP",
      "include_colab_link": true
    },
    "kernelspec": {
      "name": "python3",
      "display_name": "Python 3"
    }
  },
  "cells": [
    {
      "cell_type": "markdown",
      "metadata": {
        "id": "view-in-github",
        "colab_type": "text"
      },
      "source": [
        "<a href=\"https://colab.research.google.com/github/seulkioh91/pythonbasic/blob/main/210226_class2.ipynb\" target=\"_parent\"><img src=\"https://colab.research.google.com/assets/colab-badge.svg\" alt=\"Open In Colab\"/></a>"
      ]
    },
    {
      "cell_type": "code",
      "metadata": {
        "colab": {
          "base_uri": "https://localhost:8080/"
        },
        "id": "qXbDjJJrgrC-",
        "outputId": "2d91f6d5-32ff-435c-e06a-a6ad152151e1"
      },
      "source": [
        "num1 = input()\r\n",
        "num2 = num1.strip().split()\r\n",
        "num3 = [int(i) for i in num2]\r\n",
        "\r\n",
        "print(num1)\r\n",
        "print(num2)\r\n",
        "print(num3)"
      ],
      "execution_count": null,
      "outputs": [
        {
          "output_type": "stream",
          "text": [
            "1 2 3 5 4\n",
            "1 2 3 5 4\n",
            "['1', '2', '3', '5', '4']\n",
            "[1, 2, 3, 5, 4]\n"
          ],
          "name": "stdout"
        }
      ]
    },
    {
      "cell_type": "code",
      "metadata": {
        "colab": {
          "base_uri": "https://localhost:8080/",
          "height": 133
        },
        "id": "kMXP71Gtg4zc",
        "outputId": "bec20c42-6998-4fb9-844f-9df399949175"
      },
      "source": [
        "1 2 3 5 4"
      ],
      "execution_count": null,
      "outputs": [
        {
          "output_type": "error",
          "ename": "SyntaxError",
          "evalue": "ignored",
          "traceback": [
            "\u001b[0;36m  File \u001b[0;32m\"<ipython-input-10-352d9bff1929>\"\u001b[0;36m, line \u001b[0;32m1\u001b[0m\n\u001b[0;31m    1 2 3 5 4\u001b[0m\n\u001b[0m      ^\u001b[0m\n\u001b[0;31mSyntaxError\u001b[0m\u001b[0;31m:\u001b[0m invalid syntax\n"
          ]
        }
      ]
    },
    {
      "cell_type": "code",
      "metadata": {
        "colab": {
          "base_uri": "https://localhost:8080/"
        },
        "id": "Mx_mef1Uh2Jz",
        "outputId": "8d0e128c-a33a-4d3b-a3ed-cdd9ed33a978"
      },
      "source": [
        "num1 = input()\r\n",
        "num2 = num1.strip().split()\r\n",
        "num3 = [int(i) for i in num2]\r\n",
        "\r\n",
        "if num3 != sorted(num3):\r\n",
        "  print('NO')\r\n",
        "else:\r\n",
        "  print('YES')"
      ],
      "execution_count": null,
      "outputs": [
        {
          "output_type": "stream",
          "text": [
            "1 2 3 4 5\n",
            "YES\n"
          ],
          "name": "stdout"
        }
      ]
    },
    {
      "cell_type": "markdown",
      "metadata": {
        "id": "MzcqzULwipO3"
      },
      "source": [
        ""
      ]
    },
    {
      "cell_type": "code",
      "metadata": {
        "colab": {
          "base_uri": "https://localhost:8080/"
        },
        "id": "x2i6hHyjiH2U",
        "outputId": "6339166d-f673-4453-ee7e-29f8b549e628"
      },
      "source": [
        "num1 = input()\r\n",
        "num2 = num1.strip().split()\r\n",
        "num3 = [int(i) for i in num2]\r\n",
        "\r\n",
        "if num3 != sorted(num3):\r\n",
        "  print('NO')\r\n",
        "else:\r\n",
        "  print('YES')"
      ],
      "execution_count": null,
      "outputs": [
        {
          "output_type": "stream",
          "text": [
            "1 2 3 5 4\n",
            "NO\n"
          ],
          "name": "stdout"
        }
      ]
    },
    {
      "cell_type": "code",
      "metadata": {
        "colab": {
          "base_uri": "https://localhost:8080/"
        },
        "id": "mnfQ_YoViSer",
        "outputId": "6f40c16a-e64c-4924-8606-554e7e236a85"
      },
      "source": [
        "nums=int(input())\r\n",
        "for i in range(nums,nums+1):\r\n",
        "  for j in range(1,10):\r\n",
        "    print((i*j),end=\" \")\r\n",
        "  print(\"\")"
      ],
      "execution_count": null,
      "outputs": [
        {
          "output_type": "stream",
          "text": [
            "2\n",
            "2 4 6 8 10 12 14 16 18 \n"
          ],
          "name": "stdout"
        }
      ]
    },
    {
      "cell_type": "code",
      "metadata": {
        "id": "qYRt_HdpjCwa",
        "colab": {
          "base_uri": "https://localhost:8080/"
        },
        "outputId": "5e3625c6-265f-4d40-afc1-772ed150a818"
      },
      "source": [
        "nums=int(input())\r\n",
        "for i in range(nums,nums+1):\r\n",
        "  for j in range(1,10):\r\n",
        "    print((i*j),end=\" \")\r\n",
        "  print(\"\")\r\n"
      ],
      "execution_count": null,
      "outputs": [
        {
          "output_type": "stream",
          "text": [
            "4\n",
            "4 8 12 16 20 24 28 32 36 \n"
          ],
          "name": "stdout"
        }
      ]
    },
    {
      "cell_type": "code",
      "metadata": {
        "id": "cKW6Q4Cmnsh_",
        "colab": {
          "base_uri": "https://localhost:8080/"
        },
        "outputId": "4a1ad79a-be7a-4f17-bdfb-28e35a1150ee"
      },
      "source": [
        "n = int(input())\r\n",
        "for i in range(1,10):\r\n",
        "  print(n*i, end=\" \")"
      ],
      "execution_count": null,
      "outputs": [
        {
          "output_type": "stream",
          "text": [
            "2\n",
            "2 4 6 8 10 12 14 16 18 "
          ],
          "name": "stdout"
        }
      ]
    },
    {
      "cell_type": "code",
      "metadata": {
        "id": "pw2Lq5NB0lL8",
        "colab": {
          "base_uri": "https://localhost:8080/",
          "height": 133
        },
        "outputId": "e00c0634-dad6-46ff-8d02-cf659650ade4"
      },
      "source": [
        "n = input('')\r\n",
        "elected = str(n.max()\r\n",
        "c=str(n.count('은비')).strip()\r\n",
        "print(\"%s(이)가 총 %s 표로 반장이 되었습니다.\" % elected, c)"
      ],
      "execution_count": null,
      "outputs": [
        {
          "output_type": "error",
          "ename": "SyntaxError",
          "evalue": "ignored",
          "traceback": [
            "\u001b[0;36m  File \u001b[0;32m\"<ipython-input-76-53c1e2f00d7e>\"\u001b[0;36m, line \u001b[0;32m3\u001b[0m\n\u001b[0;31m    c=str(n.count('은비')).strip()\u001b[0m\n\u001b[0m    ^\u001b[0m\n\u001b[0;31mSyntaxError\u001b[0m\u001b[0;31m:\u001b[0m invalid syntax\n"
          ]
        }
      ]
    },
    {
      "cell_type": "code",
      "metadata": {
        "id": "pw4yWn842oye",
        "colab": {
          "base_uri": "https://localhost:8080/"
        },
        "outputId": "1d7914b6-6aba-4f8e-bb88-b4da14d969b3"
      },
      "source": [
        "# count 함수\r\n",
        "# 기본 문법 : 변수.count(찾는 값)\r\n",
        "# a = 'ooyyy'\r\n",
        "# a.count('y')\r\n",
        "\r\n",
        "# b = 'ox o x oxoxoxo'\r\n",
        "# b.count('ox')\r\n",
        "\r\n",
        "a = [1,1,1,2,3]\r\n",
        "a.count(1)"
      ],
      "execution_count": null,
      "outputs": [
        {
          "output_type": "execute_result",
          "data": {
            "text/plain": [
              "3"
            ]
          },
          "metadata": {
            "tags": []
          },
          "execution_count": 66
        }
      ]
    },
    {
      "cell_type": "code",
      "metadata": {
        "colab": {
          "base_uri": "https://localhost:8080/",
          "height": 133
        },
        "id": "cBhFA-713Ya2",
        "outputId": "8cf14eb2-8d1e-47d0-f0e4-bba13c58cfc2"
      },
      "source": [
        "I = list(input().split())\r\n",
        "i_set = set(I)\r\n",
        "cnt = o\r\n",
        "for i in I_set:\r\n",
        "  if I.count(i)>cnt:\r\n",
        "    cnt=I.count(i)\r\n",
        "    tmp=i\r\n",
        "\r\n",
        "print('{0}(이)가 총 {1}로 반장이 되었습니다.').format(tmp.cnt))"
      ],
      "execution_count": null,
      "outputs": [
        {
          "output_type": "error",
          "ename": "SyntaxError",
          "evalue": "ignored",
          "traceback": [
            "\u001b[0;36m  File \u001b[0;32m\"<ipython-input-75-daa158fd843f>\"\u001b[0;36m, line \u001b[0;32m9\u001b[0m\n\u001b[0;31m    print('{0}(이)가 총 {1}로 반장이 되었습니다.').format(tmp.cnt))\u001b[0m\n\u001b[0m                                                      ^\u001b[0m\n\u001b[0;31mSyntaxError\u001b[0m\u001b[0;31m:\u001b[0m invalid syntax\n"
          ]
        }
      ]
    },
    {
      "cell_type": "code",
      "metadata": {
        "colab": {
          "base_uri": "https://localhost:8080/"
        },
        "id": "yw7TtNmf6UfX",
        "outputId": "cdc26735-4b2c-4b45-aa7d-509dbe64c9bc"
      },
      "source": [
        "a = input().split()\r\n",
        "b = list(set(a))\r\n",
        "\r\n",
        "max = 0\r\n",
        "# 최대값을 임시로 초기화\r\n",
        "\r\n",
        "for i in range(len(b)):   # 0, 1, 2\r\n",
        "  if a.count(b[i]) > a.count(b[max]): \r\n",
        "    max = i\r\n",
        "\r\n",
        "     #채연의 개수 2 > 채연의 개수 2\r\n",
        "     #은비의 개수 4 > 채연의 개수 2 --> 빙고 --> 맥스가 i가 되는데 i ==1이 된다\r\n",
        "     #원영의 개수 2 > 은비의 개수 4 (max값이 1이 됐던거니까 그대로 은비) max=1 유지\r\n",
        "     \r\n",
        "print(\"%s(이)가 총 %d표로 반장이 되었습니다.\"% (b[max], a.count(b[max])))\r\n",
        "# 원영 원영 은비 은비 은비 은비 채연 채연"
      ],
      "execution_count": null,
      "outputs": [
        {
          "output_type": "stream",
          "text": [
            "원영 원영 은비 은비 은비 은비 채연 채연\n",
            "은비(이)가 총 4표로 반장이 되었습니다.\n"
          ],
          "name": "stdout"
        }
      ]
    },
    {
      "cell_type": "code",
      "metadata": {
        "id": "OfGvTrsC61et",
        "colab": {
          "base_uri": "https://localhost:8080/"
        },
        "outputId": "96524fe2-5204-42ae-eb7d-56de53aede42"
      },
      "source": [
        "a=input()\r\n",
        "print(a.replace(\"q\",\"e\"))"
      ],
      "execution_count": null,
      "outputs": [
        {
          "output_type": "stream",
          "text": [
            "querty\n",
            "euerty\n"
          ],
          "name": "stdout"
        }
      ]
    },
    {
      "cell_type": "code",
      "metadata": {
        "colab": {
          "base_uri": "https://localhost:8080/"
        },
        "id": "QMOaev1pDIsw",
        "outputId": "888c976f-3744-4882-d550-91cf30070b16"
      },
      "source": [
        "nums=int(input()) #숫자를 입력 받는다\r\n",
        "re = 0 #re(변수) 초기화\r\n",
        "for i in range (1, nums+1): # 반복문(그 수까지)\r\n",
        "  if nums % i == 0: #조건 입력받은 수를 그 수 앞에 모든 수로 나눈 나머지 값이 0이면\r\n",
        "    re += 1 #변수re값을 하나씩 증가\r\n",
        "\r\n",
        "if re == 2: #re값이 2면\r\n",
        "    print(\"YES\") #소수\r\n",
        "\r\n",
        "else: # 아니면\r\n",
        "    print(\"NO\") #NO 출력"
      ],
      "execution_count": null,
      "outputs": [
        {
          "output_type": "stream",
          "text": [
            "11\n",
            "YES\n"
          ],
          "name": "stdout"
        }
      ]
    },
    {
      "cell_type": "code",
      "metadata": {
        "id": "ekspNulwEbMN",
        "colab": {
          "base_uri": "https://localhost:8080/",
          "height": 203
        },
        "outputId": "520805ce-a3fc-41d7-c657-0f19ec33500d"
      },
      "source": [
        "num = input()\r\n",
        "print(sum(map(int, num)))"
      ],
      "execution_count": null,
      "outputs": [
        {
          "output_type": "stream",
          "text": [
            "1234\n"
          ],
          "name": "stdout"
        },
        {
          "output_type": "error",
          "ename": "TypeError",
          "evalue": "ignored",
          "traceback": [
            "\u001b[0;31m---------------------------------------------------------------------------\u001b[0m",
            "\u001b[0;31mTypeError\u001b[0m                                 Traceback (most recent call last)",
            "\u001b[0;32m<ipython-input-120-574ead03eb59>\u001b[0m in \u001b[0;36m<module>\u001b[0;34m()\u001b[0m\n\u001b[1;32m      1\u001b[0m \u001b[0mnum\u001b[0m \u001b[0;34m=\u001b[0m \u001b[0minput\u001b[0m\u001b[0;34m(\u001b[0m\u001b[0;34m)\u001b[0m\u001b[0;34m\u001b[0m\u001b[0;34m\u001b[0m\u001b[0m\n\u001b[0;32m----> 2\u001b[0;31m \u001b[0mprint\u001b[0m\u001b[0;34m(\u001b[0m\u001b[0msum\u001b[0m\u001b[0;34m(\u001b[0m\u001b[0mmap\u001b[0m\u001b[0;34m(\u001b[0m\u001b[0mint\u001b[0m\u001b[0;34m,\u001b[0m \u001b[0mnum\u001b[0m\u001b[0;34m)\u001b[0m\u001b[0;34m)\u001b[0m\u001b[0;34m)\u001b[0m\u001b[0;34m\u001b[0m\u001b[0;34m\u001b[0m\u001b[0m\n\u001b[0m",
            "\u001b[0;31mTypeError\u001b[0m: 'int' object is not callable"
          ]
        }
      ]
    },
    {
      "cell_type": "code",
      "metadata": {
        "id": "hBBu2uNNQNnk"
      },
      "source": [
        "1"
      ],
      "execution_count": null,
      "outputs": []
    },
    {
      "cell_type": "markdown",
      "metadata": {
        "id": "vcjbv1ifRebG"
      },
      "source": [
        ""
      ]
    }
  ]
}