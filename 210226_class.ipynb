{
  "nbformat": 4,
  "nbformat_minor": 0,
  "metadata": {
    "colab": {
      "name": "210226_class",
      "provenance": [],
      "collapsed_sections": [],
      "authorship_tag": "ABX9TyOve2fC5vlG7CH0HuGmaq2f",
      "include_colab_link": true
    },
    "kernelspec": {
      "name": "python3",
      "display_name": "Python 3"
    }
  },
  "cells": [
    {
      "cell_type": "markdown",
      "metadata": {
        "id": "view-in-github",
        "colab_type": "text"
      },
      "source": [
        "<a href=\"https://colab.research.google.com/github/seulkioh91/pythonbasic/blob/main/210226_class.ipynb\" target=\"_parent\"><img src=\"https://colab.research.google.com/assets/colab-badge.svg\" alt=\"Open In Colab\"/></a>"
      ]
    },
    {
      "cell_type": "code",
      "metadata": {
        "id": "dzUReFjtwZ1u"
      },
      "source": [
        ""
      ],
      "execution_count": null,
      "outputs": []
    },
    {
      "cell_type": "markdown",
      "metadata": {
        "id": "7yLTaIGvxkwJ"
      },
      "source": [
        "27. 딕셔너리 만들기"
      ]
    },
    {
      "cell_type": "code",
      "metadata": {
        "colab": {
          "base_uri": "https://localhost:8080/"
        },
        "id": "0E0htjCWxnc3",
        "outputId": "f8d7b31c-fa7f-47c1-ab61-2264d55b7a99"
      },
      "source": [
        "a = map(int,input().split())\r\n",
        "\r\n",
        "print(a)"
      ],
      "execution_count": null,
      "outputs": [
        {
          "output_type": "stream",
          "text": [
            "10 20\n",
            "<map object at 0x7f4d3c52fc90>\n"
          ],
          "name": "stdout"
        }
      ]
    },
    {
      "cell_type": "code",
      "metadata": {
        "colab": {
          "base_uri": "https://localhost:8080/"
        },
        "id": "P9nz2FTYx3PG",
        "outputId": "7a9d0522-cb60-4da0-9084-2128049e4e80"
      },
      "source": [
        "a=[1,2,3,4]\r\n",
        "b=[100,200,300,400]\r\n",
        "\r\n",
        "print(list(zip(a,b)))"
      ],
      "execution_count": null,
      "outputs": [
        {
          "output_type": "stream",
          "text": [
            "[(1, 100), (2, 200), (3, 300), (4, 400)]\n"
          ],
          "name": "stdout"
        }
      ]
    },
    {
      "cell_type": "code",
      "metadata": {
        "colab": {
          "base_uri": "https://localhost:8080/",
          "height": 238
        },
        "id": "kQXfSH5q3OsH",
        "outputId": "a7da1db8-d00b-46fc-f982-a15e4dd3e588"
      },
      "source": [
        "key = input().split()\r\n",
        "value = map(int, input().split())\r\n",
        "\r\n",
        "print(dict(zip(key,value)))\r\n"
      ],
      "execution_count": null,
      "outputs": [
        {
          "output_type": "stream",
          "text": [
            "Yujin Hyewon\n",
            "70 100\n"
          ],
          "name": "stdout"
        },
        {
          "output_type": "error",
          "ename": "TypeError",
          "evalue": "ignored",
          "traceback": [
            "\u001b[0;31m---------------------------------------------------------------------------\u001b[0m",
            "\u001b[0;31mTypeError\u001b[0m                                 Traceback (most recent call last)",
            "\u001b[0;32m<ipython-input-31-903450ca9739>\u001b[0m in \u001b[0;36m<module>\u001b[0;34m()\u001b[0m\n\u001b[1;32m      2\u001b[0m \u001b[0mvalue\u001b[0m \u001b[0;34m=\u001b[0m \u001b[0mmap\u001b[0m\u001b[0;34m(\u001b[0m\u001b[0mint\u001b[0m\u001b[0;34m,\u001b[0m \u001b[0minput\u001b[0m\u001b[0;34m(\u001b[0m\u001b[0;34m)\u001b[0m\u001b[0;34m.\u001b[0m\u001b[0msplit\u001b[0m\u001b[0;34m(\u001b[0m\u001b[0;34m)\u001b[0m\u001b[0;34m)\u001b[0m\u001b[0;34m\u001b[0m\u001b[0;34m\u001b[0m\u001b[0m\n\u001b[1;32m      3\u001b[0m \u001b[0;34m\u001b[0m\u001b[0m\n\u001b[0;32m----> 4\u001b[0;31m \u001b[0mprint\u001b[0m\u001b[0;34m(\u001b[0m\u001b[0mdict\u001b[0m\u001b[0;34m(\u001b[0m\u001b[0mzip\u001b[0m\u001b[0;34m(\u001b[0m\u001b[0mkey\u001b[0m\u001b[0;34m,\u001b[0m\u001b[0mvalue\u001b[0m\u001b[0;34m)\u001b[0m\u001b[0;34m)\u001b[0m\u001b[0;34m)\u001b[0m\u001b[0;34m\u001b[0m\u001b[0;34m\u001b[0m\u001b[0m\n\u001b[0m",
            "\u001b[0;31mTypeError\u001b[0m: 'dict' object is not callable"
          ]
        }
      ]
    },
    {
      "cell_type": "code",
      "metadata": {
        "colab": {
          "base_uri": "https://localhost:8080/",
          "height": 186
        },
        "id": "vRBvMosx29Iy",
        "outputId": "1906de67-0178-4660-8f4f-f9fa6595e04b"
      },
      "source": [
        "a=\"저 넓은 세상을 네 눈앞에 그려봐 네 진심을 느껴봐\"\r\n",
        "print(len(a.split()))"
      ],
      "execution_count": null,
      "outputs": [
        {
          "output_type": "error",
          "ename": "TypeError",
          "evalue": "ignored",
          "traceback": [
            "\u001b[0;31m---------------------------------------------------------------------------\u001b[0m",
            "\u001b[0;31mTypeError\u001b[0m                                 Traceback (most recent call last)",
            "\u001b[0;32m<ipython-input-33-62f527482448>\u001b[0m in \u001b[0;36m<module>\u001b[0;34m()\u001b[0m\n\u001b[1;32m      1\u001b[0m \u001b[0ma\u001b[0m\u001b[0;34m=\u001b[0m\u001b[0;34m\"저 넓은 세상을 네 눈앞에 그려봐 네 진심을 느껴봐\"\u001b[0m\u001b[0;34m\u001b[0m\u001b[0;34m\u001b[0m\u001b[0m\n\u001b[0;32m----> 2\u001b[0;31m \u001b[0mprint\u001b[0m\u001b[0;34m(\u001b[0m\u001b[0mlen\u001b[0m\u001b[0;34m(\u001b[0m\u001b[0ma\u001b[0m\u001b[0;34m.\u001b[0m\u001b[0msplit\u001b[0m\u001b[0;34m(\u001b[0m\u001b[0;34m)\u001b[0m\u001b[0;34m)\u001b[0m\u001b[0;34m)\u001b[0m\u001b[0;34m\u001b[0m\u001b[0;34m\u001b[0m\u001b[0m\n\u001b[0m",
            "\u001b[0;31mTypeError\u001b[0m: 'dict' object is not callable"
          ]
        }
      ]
    },
    {
      "cell_type": "code",
      "metadata": {
        "id": "NY_ysK1tR_-a"
      },
      "source": [
        "num1 = input()\r\n",
        "num2 = list(num1.split())\r\n",
        "num3 = map(int,input().split())\r\n",
        "\r\n",
        "print(num1)"
      ],
      "execution_count": null,
      "outputs": []
    },
    {
      "cell_type": "code",
      "metadata": {
        "id": "37INURk0gfjW",
        "colab": {
          "base_uri": "https://localhost:8080/",
          "height": 186
        },
        "outputId": "5a0a5fdf-5649-4829-b9ff-e87d8247121f"
      },
      "source": [
        "print(sum(map(int(input()))))"
      ],
      "execution_count": 7,
      "outputs": [
        {
          "output_type": "stream",
          "text": [
            "1234\n"
          ],
          "name": "stdout"
        },
        {
          "output_type": "error",
          "ename": "TypeError",
          "evalue": "ignored",
          "traceback": [
            "\u001b[0;31m---------------------------------------------------------------------------\u001b[0m",
            "\u001b[0;31mTypeError\u001b[0m                                 Traceback (most recent call last)",
            "\u001b[0;32m<ipython-input-7-775ece698fd0>\u001b[0m in \u001b[0;36m<module>\u001b[0;34m()\u001b[0m\n\u001b[0;32m----> 1\u001b[0;31m \u001b[0mprint\u001b[0m\u001b[0;34m(\u001b[0m\u001b[0msum\u001b[0m\u001b[0;34m(\u001b[0m\u001b[0mmap\u001b[0m\u001b[0;34m(\u001b[0m\u001b[0mint\u001b[0m\u001b[0;34m(\u001b[0m\u001b[0minput\u001b[0m\u001b[0;34m(\u001b[0m\u001b[0;34m)\u001b[0m\u001b[0;34m)\u001b[0m\u001b[0;34m)\u001b[0m\u001b[0;34m)\u001b[0m\u001b[0;34m)\u001b[0m\u001b[0;34m\u001b[0m\u001b[0;34m\u001b[0m\u001b[0m\n\u001b[0m",
            "\u001b[0;31mTypeError\u001b[0m: map() must have at least two arguments."
          ]
        }
      ]
    },
    {
      "cell_type": "code",
      "metadata": {
        "colab": {
          "base_uri": "https://localhost:8080/"
        },
        "id": "ElvQsPBUThbJ",
        "outputId": "31308d32-2f9b-4ead-ffc4-9c30b6a13bb2"
      },
      "source": [
        "n = list(map(int,input())) # 숫자로입력받기\r\n",
        "sum = 0 \r\n",
        "for i in n : #반복문 : 입력 받은 숫자 하나씩 넣기\r\n",
        "  sum += i #누적합계 구하기\r\n",
        "\r\n",
        "print(sum)\r\n"
      ],
      "execution_count": 3,
      "outputs": [
        {
          "output_type": "stream",
          "text": [
            "1234\n",
            "10\n"
          ],
          "name": "stdout"
        }
      ]
    },
    {
      "cell_type": "code",
      "metadata": {
        "colab": {
          "base_uri": "https://localhost:8080/"
        },
        "id": "bcC9Z1hoT_EY",
        "outputId": "24b5858b-94dd-4b48-e87e-84bb28e1b10b"
      },
      "source": [
        "sum = 0\r\n",
        "for i in input():\r\n",
        "  sum += int(i)\r\n",
        "print(sum)"
      ],
      "execution_count": 6,
      "outputs": [
        {
          "output_type": "stream",
          "text": [
            "1234\n",
            "10\n"
          ],
          "name": "stdout"
        }
      ]
    },
    {
      "cell_type": "code",
      "metadata": {
        "colab": {
          "base_uri": "https://localhost:8080/",
          "height": 221
        },
        "id": "_Vs2uFsjUOY3",
        "outputId": "391f7378-5651-4da2-e97a-9d1f39714c8a"
      },
      "source": [
        "a=[]\r\n",
        "for i in range(0,20):\r\n",
        "  i += 1\r\n",
        "  print(i, end=\"\")\r\n",
        "c = sum(map(int, a))\r\n"
      ],
      "execution_count": 22,
      "outputs": [
        {
          "output_type": "stream",
          "text": [
            "1234567891011121314151617181920"
          ],
          "name": "stdout"
        },
        {
          "output_type": "error",
          "ename": "TypeError",
          "evalue": "ignored",
          "traceback": [
            "\u001b[0;31m---------------------------------------------------------------------------\u001b[0m",
            "\u001b[0;31mTypeError\u001b[0m                                 Traceback (most recent call last)",
            "\u001b[0;32m<ipython-input-22-2353ab282b55>\u001b[0m in \u001b[0;36m<module>\u001b[0;34m()\u001b[0m\n\u001b[1;32m      3\u001b[0m   \u001b[0mi\u001b[0m \u001b[0;34m+=\u001b[0m \u001b[0;36m1\u001b[0m\u001b[0;34m\u001b[0m\u001b[0;34m\u001b[0m\u001b[0m\n\u001b[1;32m      4\u001b[0m   \u001b[0mprint\u001b[0m\u001b[0;34m(\u001b[0m\u001b[0mi\u001b[0m\u001b[0;34m,\u001b[0m \u001b[0mend\u001b[0m\u001b[0;34m=\u001b[0m\u001b[0;34m\"\"\u001b[0m\u001b[0;34m)\u001b[0m\u001b[0;34m\u001b[0m\u001b[0;34m\u001b[0m\u001b[0m\n\u001b[0;32m----> 5\u001b[0;31m \u001b[0mc\u001b[0m \u001b[0;34m=\u001b[0m \u001b[0msum\u001b[0m\u001b[0;34m(\u001b[0m\u001b[0mmap\u001b[0m\u001b[0;34m(\u001b[0m\u001b[0mint\u001b[0m\u001b[0;34m,\u001b[0m \u001b[0ma\u001b[0m\u001b[0;34m)\u001b[0m\u001b[0;34m)\u001b[0m\u001b[0;34m\u001b[0m\u001b[0;34m\u001b[0m\u001b[0m\n\u001b[0m",
            "\u001b[0;31mTypeError\u001b[0m: 'int' object is not callable"
          ]
        }
      ]
    },
    {
      "cell_type": "code",
      "metadata": {
        "colab": {
          "base_uri": "https://localhost:8080/"
        },
        "id": "4UWz_DH0VfFd",
        "outputId": "36b5f66c-a0b3-48d4-ec85-2365b7f8bccb"
      },
      "source": [
        "sum = 0\r\n",
        "for i in list(range(21)):\r\n",
        "  for j in str(i):\r\n",
        "    sum += int(j)\r\n",
        "print(sum)"
      ],
      "execution_count": 23,
      "outputs": [
        {
          "output_type": "stream",
          "text": [
            "102\n"
          ],
          "name": "stdout"
        }
      ]
    },
    {
      "cell_type": "code",
      "metadata": {
        "colab": {
          "base_uri": "https://localhost:8080/"
        },
        "id": "tTmFak-KYsir",
        "outputId": "4b0765ed-f446-45bc-e167-efa00171947a"
      },
      "source": [
        "sum = 0\r\n",
        "for i in list(range(21)):\r\n",
        "  print(i)\r\n",
        "  for j in str(i):\r\n",
        "    print(j)\r\n",
        "    sum+= int(j)\r\n",
        "    print(sum)\r\n",
        "print(sum)"
      ],
      "execution_count": 25,
      "outputs": [
        {
          "output_type": "stream",
          "text": [
            "0\n",
            "0\n",
            "0\n",
            "1\n",
            "1\n",
            "1\n",
            "2\n",
            "2\n",
            "3\n",
            "3\n",
            "3\n",
            "6\n",
            "4\n",
            "4\n",
            "10\n",
            "5\n",
            "5\n",
            "15\n",
            "6\n",
            "6\n",
            "21\n",
            "7\n",
            "7\n",
            "28\n",
            "8\n",
            "8\n",
            "36\n",
            "9\n",
            "9\n",
            "45\n",
            "10\n",
            "1\n",
            "46\n",
            "0\n",
            "46\n",
            "11\n",
            "1\n",
            "47\n",
            "1\n",
            "48\n",
            "12\n",
            "1\n",
            "49\n",
            "2\n",
            "51\n",
            "13\n",
            "1\n",
            "52\n",
            "3\n",
            "55\n",
            "14\n",
            "1\n",
            "56\n",
            "4\n",
            "60\n",
            "15\n",
            "1\n",
            "61\n",
            "5\n",
            "66\n",
            "16\n",
            "1\n",
            "67\n",
            "6\n",
            "73\n",
            "17\n",
            "1\n",
            "74\n",
            "7\n",
            "81\n",
            "18\n",
            "1\n",
            "82\n",
            "8\n",
            "90\n",
            "19\n",
            "1\n",
            "91\n",
            "9\n",
            "100\n",
            "20\n",
            "2\n",
            "102\n",
            "0\n",
            "102\n",
            "102\n"
          ],
          "name": "stdout"
        }
      ]
    },
    {
      "cell_type": "code",
      "metadata": {
        "colab": {
          "base_uri": "https://localhost:8080/"
        },
        "id": "NCMAYMYFZEWK",
        "outputId": "dcbdd00d-4e93-4edc-ca7c-62af82e8950f"
      },
      "source": [
        "a=int(input())\r\n",
        "sum = 0\r\n",
        "for i in list(range(a+1)):\r\n",
        "  for j in str(i):\r\n",
        "    sum+= int(j)\r\n",
        "print(sum)"
      ],
      "execution_count": 28,
      "outputs": [
        {
          "output_type": "stream",
          "text": [
            "20\n",
            "102\n"
          ],
          "name": "stdout"
        }
      ]
    },
    {
      "cell_type": "code",
      "metadata": {
        "id": "6jUckW4IZhWq"
      },
      "source": [
        ""
      ],
      "execution_count": null,
      "outputs": []
    }
  ]
}